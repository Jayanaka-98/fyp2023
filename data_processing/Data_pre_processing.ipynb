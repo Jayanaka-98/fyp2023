{
 "cells": [
  {
   "cell_type": "markdown",
   "id": "dbbd5b9c-0918-431b-b00a-a2c9934a30aa",
   "metadata": {},
   "source": [
    "# Data Pre-processing"
   ]
  },
  {
   "cell_type": "code",
   "execution_count": 2085,
   "id": "20ff8877-dc3c-459d-b4f7-4622efa2621c",
   "metadata": {},
   "outputs": [],
   "source": [
    "import numpy as np\n",
    "import pandas as pd\n",
    "import matplotlib.pyplot as plt\n",
    "import warnings\n",
    "warnings.filterwarnings('ignore')"
   ]
  },
  {
   "cell_type": "code",
   "execution_count": 2135,
   "id": "140892f8-ca3b-4fd2-aebd-81a49b783d45",
   "metadata": {},
   "outputs": [],
   "source": [
    "raw_data1 = pd.read_csv(r\"D:/FYP_ML/AI_DATA/S4_3_08_004.txt\", names=[\"Timestamp\", \"Position\", \"Reaction Force\",\"Apllied Force\",\"Impedence\"])"
   ]
  },
  {
   "cell_type": "markdown",
   "id": "ad48248e-b287-436d-a155-70f41bdacccb",
   "metadata": {},
   "source": [
    "# Feature Extraction"
   ]
  },
  {
   "cell_type": "code",
   "execution_count": 2136,
   "id": "862a8a79-5910-48e7-aae5-456142168966",
   "metadata": {},
   "outputs": [],
   "source": [
    "initial_timestamp = raw_data1[\"Timestamp\"][1]"
   ]
  },
  {
   "cell_type": "code",
   "execution_count": 2137,
   "id": "63b91d95-d2c8-4a51-896e-0ffa76d94b42",
   "metadata": {},
   "outputs": [
    {
     "data": {
      "text/plain": [
       "-2059768845"
      ]
     },
     "execution_count": 2137,
     "metadata": {},
     "output_type": "execute_result"
    }
   ],
   "source": [
    "initial_timestamp"
   ]
  },
  {
   "cell_type": "code",
   "execution_count": 2138,
   "id": "7106e05d-0967-4d1f-9fb8-1c2fb6bdfecd",
   "metadata": {},
   "outputs": [],
   "source": [
    "raw_data1[\"Timestamp\"] = (raw_data1[\"Timestamp\"] - initial_timestamp)/10e5"
   ]
  },
  {
   "cell_type": "code",
   "execution_count": 2139,
   "id": "faf41c3d-31db-4e92-804c-574e0ff16668",
   "metadata": {},
   "outputs": [
    {
     "data": {
      "text/plain": [
       "0         -0.000077\n",
       "1          0.000000\n",
       "2          0.000038\n",
       "3          0.000075\n",
       "4          0.000111\n",
       "            ...    \n",
       "349995    11.659907\n",
       "349996    11.659940\n",
       "349997    11.659972\n",
       "349998    11.660005\n",
       "349999    11.660038\n",
       "Name: Timestamp, Length: 350000, dtype: float64"
      ]
     },
     "execution_count": 2139,
     "metadata": {},
     "output_type": "execute_result"
    }
   ],
   "source": [
    "raw_data1[\"Timestamp\"] "
   ]
  },
  {
   "cell_type": "code",
   "execution_count": 2140,
   "id": "1995ecdf-b0a6-4f8e-ad2f-1cce97c52861",
   "metadata": {},
   "outputs": [],
   "source": [
    "x_r = pd.DataFrame({'Position':raw_data1['Position']})\n",
    "f_r = pd.DataFrame({'Reaction Force':raw_data1['Reaction Force']})\n",
    "f_r = pd.DataFrame({'Impedence':raw_data1['Impedence']})"
   ]
  },
  {
   "cell_type": "code",
   "execution_count": 2141,
   "id": "58b9ca00-97d5-4b98-97dd-b393e0a4c1aa",
   "metadata": {},
   "outputs": [
    {
     "data": {
      "text/html": [
       "<div>\n",
       "<style scoped>\n",
       "    .dataframe tbody tr th:only-of-type {\n",
       "        vertical-align: middle;\n",
       "    }\n",
       "\n",
       "    .dataframe tbody tr th {\n",
       "        vertical-align: top;\n",
       "    }\n",
       "\n",
       "    .dataframe thead th {\n",
       "        text-align: right;\n",
       "    }\n",
       "</style>\n",
       "<table border=\"1\" class=\"dataframe\">\n",
       "  <thead>\n",
       "    <tr style=\"text-align: right;\">\n",
       "      <th></th>\n",
       "      <th>Timestamp</th>\n",
       "      <th>Position</th>\n",
       "      <th>Reaction Force</th>\n",
       "      <th>Apllied Force</th>\n",
       "      <th>Impedence</th>\n",
       "    </tr>\n",
       "  </thead>\n",
       "  <tbody>\n",
       "    <tr>\n",
       "      <th>0</th>\n",
       "      <td>-0.000077</td>\n",
       "      <td>0.000000</td>\n",
       "      <td>0.000000</td>\n",
       "      <td>0.8</td>\n",
       "      <td>0.000000</td>\n",
       "    </tr>\n",
       "    <tr>\n",
       "      <th>1</th>\n",
       "      <td>0.000000</td>\n",
       "      <td>0.000000</td>\n",
       "      <td>0.012320</td>\n",
       "      <td>0.8</td>\n",
       "      <td>0.000000</td>\n",
       "    </tr>\n",
       "    <tr>\n",
       "      <th>2</th>\n",
       "      <td>0.000038</td>\n",
       "      <td>0.000000</td>\n",
       "      <td>0.018306</td>\n",
       "      <td>0.8</td>\n",
       "      <td>0.000000</td>\n",
       "    </tr>\n",
       "    <tr>\n",
       "      <th>3</th>\n",
       "      <td>0.000075</td>\n",
       "      <td>0.000000</td>\n",
       "      <td>0.024091</td>\n",
       "      <td>0.8</td>\n",
       "      <td>0.000000</td>\n",
       "    </tr>\n",
       "    <tr>\n",
       "      <th>4</th>\n",
       "      <td>0.000111</td>\n",
       "      <td>0.000000</td>\n",
       "      <td>0.029677</td>\n",
       "      <td>0.8</td>\n",
       "      <td>0.000000</td>\n",
       "    </tr>\n",
       "    <tr>\n",
       "      <th>...</th>\n",
       "      <td>...</td>\n",
       "      <td>...</td>\n",
       "      <td>...</td>\n",
       "      <td>...</td>\n",
       "      <td>...</td>\n",
       "    </tr>\n",
       "    <tr>\n",
       "      <th>349995</th>\n",
       "      <td>11.659907</td>\n",
       "      <td>0.000195</td>\n",
       "      <td>0.802153</td>\n",
       "      <td>0.8</td>\n",
       "      <td>4115.026777</td>\n",
       "    </tr>\n",
       "    <tr>\n",
       "      <th>349996</th>\n",
       "      <td>11.659940</td>\n",
       "      <td>0.000195</td>\n",
       "      <td>0.802141</td>\n",
       "      <td>0.8</td>\n",
       "      <td>4114.965685</td>\n",
       "    </tr>\n",
       "    <tr>\n",
       "      <th>349997</th>\n",
       "      <td>11.659972</td>\n",
       "      <td>0.000195</td>\n",
       "      <td>0.802130</td>\n",
       "      <td>0.8</td>\n",
       "      <td>4114.906687</td>\n",
       "    </tr>\n",
       "    <tr>\n",
       "      <th>349998</th>\n",
       "      <td>11.660005</td>\n",
       "      <td>0.000195</td>\n",
       "      <td>0.802118</td>\n",
       "      <td>0.8</td>\n",
       "      <td>4114.846083</td>\n",
       "    </tr>\n",
       "    <tr>\n",
       "      <th>349999</th>\n",
       "      <td>11.660038</td>\n",
       "      <td>0.000195</td>\n",
       "      <td>0.802106</td>\n",
       "      <td>0.8</td>\n",
       "      <td>4114.785727</td>\n",
       "    </tr>\n",
       "  </tbody>\n",
       "</table>\n",
       "<p>350000 rows × 5 columns</p>\n",
       "</div>"
      ],
      "text/plain": [
       "        Timestamp  Position  Reaction Force  Apllied Force    Impedence\n",
       "0       -0.000077  0.000000        0.000000            0.8     0.000000\n",
       "1        0.000000  0.000000        0.012320            0.8     0.000000\n",
       "2        0.000038  0.000000        0.018306            0.8     0.000000\n",
       "3        0.000075  0.000000        0.024091            0.8     0.000000\n",
       "4        0.000111  0.000000        0.029677            0.8     0.000000\n",
       "...           ...       ...             ...            ...          ...\n",
       "349995  11.659907  0.000195        0.802153            0.8  4115.026777\n",
       "349996  11.659940  0.000195        0.802141            0.8  4114.965685\n",
       "349997  11.659972  0.000195        0.802130            0.8  4114.906687\n",
       "349998  11.660005  0.000195        0.802118            0.8  4114.846083\n",
       "349999  11.660038  0.000195        0.802106            0.8  4114.785727\n",
       "\n",
       "[350000 rows x 5 columns]"
      ]
     },
     "execution_count": 2141,
     "metadata": {},
     "output_type": "execute_result"
    }
   ],
   "source": [
    "raw_data1"
   ]
  },
  {
   "cell_type": "code",
   "execution_count": 2142,
   "id": "cf0a498a-1490-43d3-9ae1-fafceccae165",
   "metadata": {},
   "outputs": [],
   "source": [
    "start1 = np.where([raw_data1['Timestamp']<4.6])\n",
    "start1 = start1[1][-1]\n",
    "\n",
    "end1 = np.where([raw_data1['Timestamp']>11.2])\n",
    "end1 = end1[1][0]\n"
   ]
  },
  {
   "cell_type": "code",
   "execution_count": 2143,
   "id": "fbca5ac5-75ce-411c-9e3f-42c90fdbc083",
   "metadata": {},
   "outputs": [
    {
     "data": {
      "text/html": [
       "<div>\n",
       "<style scoped>\n",
       "    .dataframe tbody tr th:only-of-type {\n",
       "        vertical-align: middle;\n",
       "    }\n",
       "\n",
       "    .dataframe tbody tr th {\n",
       "        vertical-align: top;\n",
       "    }\n",
       "\n",
       "    .dataframe thead th {\n",
       "        text-align: right;\n",
       "    }\n",
       "</style>\n",
       "<table border=\"1\" class=\"dataframe\">\n",
       "  <thead>\n",
       "    <tr style=\"text-align: right;\">\n",
       "      <th></th>\n",
       "      <th>Timestamp</th>\n",
       "      <th>Position</th>\n",
       "      <th>Reaction Force</th>\n",
       "      <th>Apllied Force</th>\n",
       "      <th>Impedence</th>\n",
       "    </tr>\n",
       "  </thead>\n",
       "  <tbody>\n",
       "    <tr>\n",
       "      <th>138318</th>\n",
       "      <td>4.600029</td>\n",
       "      <td>0.000115</td>\n",
       "      <td>0.802216</td>\n",
       "      <td>0.8</td>\n",
       "      <td>6978.199530</td>\n",
       "    </tr>\n",
       "    <tr>\n",
       "      <th>138319</th>\n",
       "      <td>4.600062</td>\n",
       "      <td>0.000115</td>\n",
       "      <td>0.802202</td>\n",
       "      <td>0.8</td>\n",
       "      <td>6978.082115</td>\n",
       "    </tr>\n",
       "    <tr>\n",
       "      <th>138320</th>\n",
       "      <td>4.600095</td>\n",
       "      <td>0.000115</td>\n",
       "      <td>0.802189</td>\n",
       "      <td>0.8</td>\n",
       "      <td>6977.965346</td>\n",
       "    </tr>\n",
       "    <tr>\n",
       "      <th>138321</th>\n",
       "      <td>4.600127</td>\n",
       "      <td>0.000115</td>\n",
       "      <td>0.802176</td>\n",
       "      <td>0.8</td>\n",
       "      <td>6977.852741</td>\n",
       "    </tr>\n",
       "    <tr>\n",
       "      <th>138322</th>\n",
       "      <td>4.600159</td>\n",
       "      <td>0.000115</td>\n",
       "      <td>0.802163</td>\n",
       "      <td>0.8</td>\n",
       "      <td>6977.740738</td>\n",
       "    </tr>\n",
       "    <tr>\n",
       "      <th>...</th>\n",
       "      <td>...</td>\n",
       "      <td>...</td>\n",
       "      <td>...</td>\n",
       "      <td>...</td>\n",
       "      <td>...</td>\n",
       "    </tr>\n",
       "    <tr>\n",
       "      <th>336060</th>\n",
       "      <td>11.199851</td>\n",
       "      <td>0.000190</td>\n",
       "      <td>0.799999</td>\n",
       "      <td>0.8</td>\n",
       "      <td>4211.976278</td>\n",
       "    </tr>\n",
       "    <tr>\n",
       "      <th>336061</th>\n",
       "      <td>11.199884</td>\n",
       "      <td>0.000190</td>\n",
       "      <td>0.799999</td>\n",
       "      <td>0.8</td>\n",
       "      <td>4211.976311</td>\n",
       "    </tr>\n",
       "    <tr>\n",
       "      <th>336062</th>\n",
       "      <td>11.199916</td>\n",
       "      <td>0.000190</td>\n",
       "      <td>0.799999</td>\n",
       "      <td>0.8</td>\n",
       "      <td>4211.976343</td>\n",
       "    </tr>\n",
       "    <tr>\n",
       "      <th>336063</th>\n",
       "      <td>11.199949</td>\n",
       "      <td>0.000190</td>\n",
       "      <td>0.799999</td>\n",
       "      <td>0.8</td>\n",
       "      <td>4211.976375</td>\n",
       "    </tr>\n",
       "    <tr>\n",
       "      <th>336064</th>\n",
       "      <td>11.199981</td>\n",
       "      <td>0.000190</td>\n",
       "      <td>0.799999</td>\n",
       "      <td>0.8</td>\n",
       "      <td>4211.976406</td>\n",
       "    </tr>\n",
       "  </tbody>\n",
       "</table>\n",
       "<p>197747 rows × 5 columns</p>\n",
       "</div>"
      ],
      "text/plain": [
       "        Timestamp  Position  Reaction Force  Apllied Force    Impedence\n",
       "138318   4.600029  0.000115        0.802216            0.8  6978.199530\n",
       "138319   4.600062  0.000115        0.802202            0.8  6978.082115\n",
       "138320   4.600095  0.000115        0.802189            0.8  6977.965346\n",
       "138321   4.600127  0.000115        0.802176            0.8  6977.852741\n",
       "138322   4.600159  0.000115        0.802163            0.8  6977.740738\n",
       "...           ...       ...             ...            ...          ...\n",
       "336060  11.199851  0.000190        0.799999            0.8  4211.976278\n",
       "336061  11.199884  0.000190        0.799999            0.8  4211.976311\n",
       "336062  11.199916  0.000190        0.799999            0.8  4211.976343\n",
       "336063  11.199949  0.000190        0.799999            0.8  4211.976375\n",
       "336064  11.199981  0.000190        0.799999            0.8  4211.976406\n",
       "\n",
       "[197747 rows x 5 columns]"
      ]
     },
     "execution_count": 2143,
     "metadata": {},
     "output_type": "execute_result"
    }
   ],
   "source": [
    "sliced_data1 = raw_data1[start1+1:end1]\n",
    "sliced_data1"
   ]
  },
  {
   "cell_type": "code",
   "execution_count": 2144,
   "id": "80b15985-dbe0-4206-9d0d-ea019e2ba4a2",
   "metadata": {},
   "outputs": [],
   "source": [
    "t = sliced_data1['Timestamp'] \n",
    "x_r = sliced_data1['Position'] - sliced_data1['Position'].mean()\n",
    "f_r= sliced_data1['Reaction Force']-sliced_data1['Reaction Force'].mean()\n",
    "z = sliced_data1['Impedence']"
   ]
  },
  {
   "cell_type": "code",
   "execution_count": 2145,
   "id": "3d99f528-db27-403f-b6fd-d2503fe3ab4b",
   "metadata": {},
   "outputs": [
    {
     "data": {
      "text/plain": [
       "[<matplotlib.lines.Line2D at 0x1f14eef5370>]"
      ]
     },
     "execution_count": 2145,
     "metadata": {},
     "output_type": "execute_result"
    },
    {
     "data": {
      "image/png": "[encoded data removed]",
      "text/plain": [
       "<Figure size 640x480 with 1 Axes>"
      ]
     },
     "metadata": {},
     "output_type": "display_data"
    }
   ],
   "source": [
    "fig = plt.figure()\n",
    "plt.plot(t,x_r)\n",
    "#plt.plot(Timestamp2,Rotary_disp2)"
   ]
  },
  {
   "cell_type": "code",
   "execution_count": 2146,
   "id": "6d863db4-6ea3-41fe-ba4e-908ddca6f082",
   "metadata": {},
   "outputs": [
    {
     "data": {
      "text/plain": [
       "[<matplotlib.lines.Line2D at 0x1f1a2105460>]"
      ]
     },
     "execution_count": 2146,
     "metadata": {},
     "output_type": "execute_result"
    },
    {
     "data": {
      "image/png": "[encoded data removed]",
      "text/plain": [
       "<Figure size 640x480 with 1 Axes>"
      ]
     },
     "metadata": {},
     "output_type": "display_data"
    }
   ],
   "source": [
    "fig = plt.figure()\n",
    "plt.plot(t,f_r)\n",
    "#plt.plot(Timestamp2,Rotary_disp2)"
   ]
  },
  {
   "cell_type": "code",
   "execution_count": 2147,
   "id": "68617f55-2677-4abe-8a9b-bd576ba044a9",
   "metadata": {},
   "outputs": [
    {
     "data": {
      "text/html": [
       "<div>\n",
       "<style scoped>\n",
       "    .dataframe tbody tr th:only-of-type {\n",
       "        vertical-align: middle;\n",
       "    }\n",
       "\n",
       "    .dataframe tbody tr th {\n",
       "        vertical-align: top;\n",
       "    }\n",
       "\n",
       "    .dataframe thead th {\n",
       "        text-align: right;\n",
       "    }\n",
       "</style>\n",
       "<table border=\"1\" class=\"dataframe\">\n",
       "  <thead>\n",
       "    <tr style=\"text-align: right;\">\n",
       "      <th></th>\n",
       "      <th>Timestamp</th>\n",
       "      <th>Position</th>\n",
       "      <th>Reaction Force</th>\n",
       "      <th>Apllied Force</th>\n",
       "      <th>Impedence</th>\n",
       "    </tr>\n",
       "  </thead>\n",
       "  <tbody>\n",
       "    <tr>\n",
       "      <th>138318</th>\n",
       "      <td>0.000000</td>\n",
       "      <td>0.000115</td>\n",
       "      <td>0.802216</td>\n",
       "      <td>0.8</td>\n",
       "      <td>6978.199530</td>\n",
       "    </tr>\n",
       "    <tr>\n",
       "      <th>138319</th>\n",
       "      <td>0.000033</td>\n",
       "      <td>0.000115</td>\n",
       "      <td>0.802202</td>\n",
       "      <td>0.8</td>\n",
       "      <td>6978.082115</td>\n",
       "    </tr>\n",
       "    <tr>\n",
       "      <th>138320</th>\n",
       "      <td>0.000066</td>\n",
       "      <td>0.000115</td>\n",
       "      <td>0.802189</td>\n",
       "      <td>0.8</td>\n",
       "      <td>6977.965346</td>\n",
       "    </tr>\n",
       "    <tr>\n",
       "      <th>138321</th>\n",
       "      <td>0.000098</td>\n",
       "      <td>0.000115</td>\n",
       "      <td>0.802176</td>\n",
       "      <td>0.8</td>\n",
       "      <td>6977.852741</td>\n",
       "    </tr>\n",
       "    <tr>\n",
       "      <th>138322</th>\n",
       "      <td>0.000130</td>\n",
       "      <td>0.000115</td>\n",
       "      <td>0.802163</td>\n",
       "      <td>0.8</td>\n",
       "      <td>6977.740738</td>\n",
       "    </tr>\n",
       "    <tr>\n",
       "      <th>...</th>\n",
       "      <td>...</td>\n",
       "      <td>...</td>\n",
       "      <td>...</td>\n",
       "      <td>...</td>\n",
       "      <td>...</td>\n",
       "    </tr>\n",
       "    <tr>\n",
       "      <th>336060</th>\n",
       "      <td>6.599822</td>\n",
       "      <td>0.000190</td>\n",
       "      <td>0.799999</td>\n",
       "      <td>0.8</td>\n",
       "      <td>4211.976278</td>\n",
       "    </tr>\n",
       "    <tr>\n",
       "      <th>336061</th>\n",
       "      <td>6.599855</td>\n",
       "      <td>0.000190</td>\n",
       "      <td>0.799999</td>\n",
       "      <td>0.8</td>\n",
       "      <td>4211.976311</td>\n",
       "    </tr>\n",
       "    <tr>\n",
       "      <th>336062</th>\n",
       "      <td>6.599887</td>\n",
       "      <td>0.000190</td>\n",
       "      <td>0.799999</td>\n",
       "      <td>0.8</td>\n",
       "      <td>4211.976343</td>\n",
       "    </tr>\n",
       "    <tr>\n",
       "      <th>336063</th>\n",
       "      <td>6.599920</td>\n",
       "      <td>0.000190</td>\n",
       "      <td>0.799999</td>\n",
       "      <td>0.8</td>\n",
       "      <td>4211.976375</td>\n",
       "    </tr>\n",
       "    <tr>\n",
       "      <th>336064</th>\n",
       "      <td>6.599952</td>\n",
       "      <td>0.000190</td>\n",
       "      <td>0.799999</td>\n",
       "      <td>0.8</td>\n",
       "      <td>4211.976406</td>\n",
       "    </tr>\n",
       "  </tbody>\n",
       "</table>\n",
       "<p>197747 rows × 5 columns</p>\n",
       "</div>"
      ],
      "text/plain": [
       "        Timestamp  Position  Reaction Force  Apllied Force    Impedence\n",
       "138318   0.000000  0.000115        0.802216            0.8  6978.199530\n",
       "138319   0.000033  0.000115        0.802202            0.8  6978.082115\n",
       "138320   0.000066  0.000115        0.802189            0.8  6977.965346\n",
       "138321   0.000098  0.000115        0.802176            0.8  6977.852741\n",
       "138322   0.000130  0.000115        0.802163            0.8  6977.740738\n",
       "...           ...       ...             ...            ...          ...\n",
       "336060   6.599822  0.000190        0.799999            0.8  4211.976278\n",
       "336061   6.599855  0.000190        0.799999            0.8  4211.976311\n",
       "336062   6.599887  0.000190        0.799999            0.8  4211.976343\n",
       "336063   6.599920  0.000190        0.799999            0.8  4211.976375\n",
       "336064   6.599952  0.000190        0.799999            0.8  4211.976406\n",
       "\n",
       "[197747 rows x 5 columns]"
      ]
     },
     "execution_count": 2147,
     "metadata": {},
     "output_type": "execute_result"
    }
   ],
   "source": [
    "sliced_data1['Timestamp'] = sliced_data1['Timestamp'] - sliced_data1.iloc[0]['Timestamp']\n",
    "sliced_data1"
   ]
  },
  {
   "cell_type": "markdown",
   "id": "7f3a85d8-267f-4cd2-9d18-42aec5ed3960",
   "metadata": {
    "tags": []
   },
   "source": [
    "# Slicing and Writing to seperate files (30000 per file)"
   ]
  },
  {
   "cell_type": "code",
   "execution_count": 2148,
   "id": "cb310f3b-ec99-40f9-9d9d-2010d995439e",
   "metadata": {},
   "outputs": [],
   "source": [
    "#Slice_count = np.where([sliced_data1['Timestamp']<=4])\n",
    "#Slice_count = Slice_count[1][-1]\n",
    "Slice_count = 30000\n",
    "g_velocity = 100;\n",
    "g_acceleration = 100;"
   ]
  },
  {
   "cell_type": "code",
   "execution_count": 2149,
   "id": "6c62461b-c497-493a-a48b-50e7ddb045ab",
   "metadata": {},
   "outputs": [],
   "source": [
    "for i in range(5):\n",
    "    df2 = sliced_data1[i*(Slice_count):(i+1)*(Slice_count)]\n",
    "    df2 = df2.reset_index()\n",
    "    df2 = df2.drop('index',axis=1)\n",
    "    df2['Timestamp'] = df2['Timestamp'] - df2.iloc[0]['Timestamp']\n",
    "    df2['Position'] = df2['Position'] - df2['Position'].mean() \n",
    "    df2['Reaction Force'] = df2['Reaction Force'] - df2['Reaction Force'].mean()\n",
    "    df2['Velocity']= 0\n",
    "    df2['Position_sum']= 0\n",
    "    df2['Velocity_sum']= 0\n",
    "    df2['Stiffness']= df2['Impedence']\n",
    "    df2['Acceleration']= 0\n",
    "    for k in range(1,len(df2)):\n",
    "        df2['Position_sum'][k]= df2['Position_sum'][k-1]+df2['Velocity'][k-1]*(df2['Timestamp'][k]-df2['Timestamp'][k-1])\n",
    "        df2['Velocity'][k]= g_velocity*(df2['Position'][k]-df2['Position_sum'][k])\n",
    "        df2['Velocity_sum'][k]= df2['Velocity_sum'][k-1]+df2['Acceleration'][k-1]*(df2['Timestamp'][k]-df2['Timestamp'][k-1])\n",
    "        df2['Acceleration'][k]= g_acceleration*(df2['Velocity'][k]-df2['Velocity_sum'][k])\n",
    "    df2['F*x area'] = df2['Reaction Force']*df2['Position']\n",
    "    df2 = df2.drop('Impedence',axis=1)\n",
    "    df2 = df2.drop('Position_sum',axis=1)\n",
    "    df2 = df2.drop('Velocity_sum',axis=1)\n",
    "    df2 = df2.drop('Apllied Force',axis=1)\n",
    "    df2 = df2.drop('Timestamp',axis=1)\n",
    "    df2.to_csv(\"D:\\FYP_ML\\Processed Data\\S4\\S4_\" + str(i+1016) +\".csv\",index=False)\n"
   ]
  },
  {
   "cell_type": "code",
   "execution_count": 2150,
   "id": "252de890-c7a6-4998-90b3-88ba354c787c",
   "metadata": {},
   "outputs": [
    {
     "data": {
      "text/plain": [
       "30000"
      ]
     },
     "execution_count": 2150,
     "metadata": {},
     "output_type": "execute_result"
    }
   ],
   "source": [
    "len(df2)"
   ]
  },
  {
   "cell_type": "code",
   "execution_count": null,
   "id": "dd3fabb7-3844-40c7-aa4c-eb3991da670a",
   "metadata": {},
   "outputs": [],
   "source": []
  }
 ],
 "metadata": {
  "kernelspec": {
   "display_name": "Python 3 (ipykernel)",
   "language": "python",
   "name": "python3"
  },
  "language_info": {
   "codemirror_mode": {
    "name": "ipython",
    "version": 3
   },
   "file_extension": ".py",
   "mimetype": "text/x-python",
   "name": "python",
   "nbconvert_exporter": "python",
   "pygments_lexer": "ipython3",
   "version": "3.9.13"
  }
 },
 "nbformat": 4,
 "nbformat_minor": 5
}
