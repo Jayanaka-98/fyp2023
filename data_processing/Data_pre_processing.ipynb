{
 "cells": [
  {
   "cell_type": "markdown",
   "id": "dbbd5b9c-0918-431b-b00a-a2c9934a30aa",
   "metadata": {},
   "source": [
    "# Data Pre-processing"
   ]
  },
  {
   "cell_type": "code",
   "execution_count": 1,
   "id": "20ff8877-dc3c-459d-b4f7-4622efa2621c",
   "metadata": {},
   "outputs": [],
   "source": [
    "import numpy as np\n",
    "import pandas as pd\n",
    "import matplotlib.pyplot as plt\n",
    "import warnings\n",
    "warnings.filterwarnings('ignore')"
   ]
  },
  {
   "cell_type": "code",
   "execution_count": 2,
   "id": "140892f8-ca3b-4fd2-aebd-81a49b783d45",
   "metadata": {},
   "outputs": [],
   "source": [
    "raw_data1 = pd.read_csv(r\"D:/FYP_ML/AI_DATA/S1_1_8_001.txt\", names=[\"Timestamp\", \"Position\", \"Reaction Force\",\"Apllied Force\",\"Impedence\"])"
   ]
  },
  {
   "cell_type": "markdown",
   "id": "ad48248e-b287-436d-a155-70f41bdacccb",
   "metadata": {},
   "source": [
    "# Feature Extraction"
   ]
  },
  {
   "cell_type": "code",
   "execution_count": 3,
   "id": "862a8a79-5910-48e7-aae5-456142168966",
   "metadata": {},
   "outputs": [],
   "source": [
    "initial_timestamp = raw_data1[\"Timestamp\"][1]"
   ]
  },
  {
   "cell_type": "code",
   "execution_count": 4,
   "id": "63b91d95-d2c8-4a51-896e-0ffa76d94b42",
   "metadata": {},
   "outputs": [
    {
     "data": {
      "text/plain": [
       "-131275641"
      ]
     },
     "execution_count": 4,
     "metadata": {},
     "output_type": "execute_result"
    }
   ],
   "source": [
    "initial_timestamp"
   ]
  },
  {
   "cell_type": "code",
   "execution_count": 5,
   "id": "7106e05d-0967-4d1f-9fb8-1c2fb6bdfecd",
   "metadata": {},
   "outputs": [],
   "source": [
    "raw_data1[\"Timestamp\"] = (raw_data1[\"Timestamp\"] - initial_timestamp)/10e5"
   ]
  },
  {
   "cell_type": "code",
   "execution_count": 6,
   "id": "faf41c3d-31db-4e92-804c-574e0ff16668",
   "metadata": {},
   "outputs": [
    {
     "data": {
      "text/plain": [
       "0         -0.000067\n",
       "1          0.000000\n",
       "2          0.000038\n",
       "3          0.000075\n",
       "4          0.000112\n",
       "            ...    \n",
       "349995    11.473237\n",
       "349996    11.473269\n",
       "349997    11.473302\n",
       "349998    11.473335\n",
       "349999    11.473367\n",
       "Name: Timestamp, Length: 350000, dtype: float64"
      ]
     },
     "execution_count": 6,
     "metadata": {},
     "output_type": "execute_result"
    }
   ],
   "source": [
    "raw_data1[\"Timestamp\"] "
   ]
  },
  {
   "cell_type": "code",
   "execution_count": 7,
   "id": "1995ecdf-b0a6-4f8e-ad2f-1cce97c52861",
   "metadata": {},
   "outputs": [],
   "source": [
    "x_r = pd.DataFrame({'Position':raw_data1['Position']})\n",
    "f_r = pd.DataFrame({'Reaction Force':raw_data1['Reaction Force']})\n",
    "f_r = pd.DataFrame({'Impedence':raw_data1['Impedence']})"
   ]
  },
  {
   "cell_type": "code",
   "execution_count": 8,
   "id": "58b9ca00-97d5-4b98-97dd-b393e0a4c1aa",
   "metadata": {},
   "outputs": [
    {
     "data": {
      "text/html": [
       "<div>\n",
       "<style scoped>\n",
       "    .dataframe tbody tr th:only-of-type {\n",
       "        vertical-align: middle;\n",
       "    }\n",
       "\n",
       "    .dataframe tbody tr th {\n",
       "        vertical-align: top;\n",
       "    }\n",
       "\n",
       "    .dataframe thead th {\n",
       "        text-align: right;\n",
       "    }\n",
       "</style>\n",
       "<table border=\"1\" class=\"dataframe\">\n",
       "  <thead>\n",
       "    <tr style=\"text-align: right;\">\n",
       "      <th></th>\n",
       "      <th>Timestamp</th>\n",
       "      <th>Position</th>\n",
       "      <th>Reaction Force</th>\n",
       "      <th>Apllied Force</th>\n",
       "      <th>Impedence</th>\n",
       "    </tr>\n",
       "  </thead>\n",
       "  <tbody>\n",
       "    <tr>\n",
       "      <th>0</th>\n",
       "      <td>-0.000067</td>\n",
       "      <td>0.000000</td>\n",
       "      <td>0.000000</td>\n",
       "      <td>0.8</td>\n",
       "      <td>0.000000</td>\n",
       "    </tr>\n",
       "    <tr>\n",
       "      <th>1</th>\n",
       "      <td>0.000000</td>\n",
       "      <td>0.000000</td>\n",
       "      <td>0.010720</td>\n",
       "      <td>0.8</td>\n",
       "      <td>0.000000</td>\n",
       "    </tr>\n",
       "    <tr>\n",
       "      <th>2</th>\n",
       "      <td>0.000038</td>\n",
       "      <td>0.000000</td>\n",
       "      <td>0.016719</td>\n",
       "      <td>0.8</td>\n",
       "      <td>0.000000</td>\n",
       "    </tr>\n",
       "    <tr>\n",
       "      <th>3</th>\n",
       "      <td>0.000075</td>\n",
       "      <td>0.000000</td>\n",
       "      <td>0.022515</td>\n",
       "      <td>0.8</td>\n",
       "      <td>0.000000</td>\n",
       "    </tr>\n",
       "    <tr>\n",
       "      <th>4</th>\n",
       "      <td>0.000112</td>\n",
       "      <td>0.000000</td>\n",
       "      <td>0.028268</td>\n",
       "      <td>0.8</td>\n",
       "      <td>0.000000</td>\n",
       "    </tr>\n",
       "    <tr>\n",
       "      <th>...</th>\n",
       "      <td>...</td>\n",
       "      <td>...</td>\n",
       "      <td>...</td>\n",
       "      <td>...</td>\n",
       "      <td>...</td>\n",
       "    </tr>\n",
       "    <tr>\n",
       "      <th>349995</th>\n",
       "      <td>11.473237</td>\n",
       "      <td>0.001405</td>\n",
       "      <td>0.799474</td>\n",
       "      <td>0.8</td>\n",
       "      <td>569.217474</td>\n",
       "    </tr>\n",
       "    <tr>\n",
       "      <th>349996</th>\n",
       "      <td>11.473269</td>\n",
       "      <td>0.001405</td>\n",
       "      <td>0.799478</td>\n",
       "      <td>0.8</td>\n",
       "      <td>569.219824</td>\n",
       "    </tr>\n",
       "    <tr>\n",
       "      <th>349997</th>\n",
       "      <td>11.473302</td>\n",
       "      <td>0.001405</td>\n",
       "      <td>0.799481</td>\n",
       "      <td>0.8</td>\n",
       "      <td>569.222232</td>\n",
       "    </tr>\n",
       "    <tr>\n",
       "      <th>349998</th>\n",
       "      <td>11.473335</td>\n",
       "      <td>0.001405</td>\n",
       "      <td>0.799484</td>\n",
       "      <td>0.8</td>\n",
       "      <td>569.224625</td>\n",
       "    </tr>\n",
       "    <tr>\n",
       "      <th>349999</th>\n",
       "      <td>11.473367</td>\n",
       "      <td>0.001405</td>\n",
       "      <td>0.799488</td>\n",
       "      <td>0.8</td>\n",
       "      <td>569.226930</td>\n",
       "    </tr>\n",
       "  </tbody>\n",
       "</table>\n",
       "<p>350000 rows × 5 columns</p>\n",
       "</div>"
      ],
      "text/plain": [
       "        Timestamp  Position  Reaction Force  Apllied Force   Impedence\n",
       "0       -0.000067  0.000000        0.000000            0.8    0.000000\n",
       "1        0.000000  0.000000        0.010720            0.8    0.000000\n",
       "2        0.000038  0.000000        0.016719            0.8    0.000000\n",
       "3        0.000075  0.000000        0.022515            0.8    0.000000\n",
       "4        0.000112  0.000000        0.028268            0.8    0.000000\n",
       "...           ...       ...             ...            ...         ...\n",
       "349995  11.473237  0.001405        0.799474            0.8  569.217474\n",
       "349996  11.473269  0.001405        0.799478            0.8  569.219824\n",
       "349997  11.473302  0.001405        0.799481            0.8  569.222232\n",
       "349998  11.473335  0.001405        0.799484            0.8  569.224625\n",
       "349999  11.473367  0.001405        0.799488            0.8  569.226930\n",
       "\n",
       "[350000 rows x 5 columns]"
      ]
     },
     "execution_count": 8,
     "metadata": {},
     "output_type": "execute_result"
    }
   ],
   "source": [
    "raw_data1"
   ]
  },
  {
   "cell_type": "code",
   "execution_count": 9,
   "id": "cf0a498a-1490-43d3-9ae1-fafceccae165",
   "metadata": {},
   "outputs": [],
   "source": [
    "start1 = np.where([raw_data1['Timestamp']<2])\n",
    "start1 = start1[1][-1]\n",
    "\n",
    "end1 = np.where([raw_data1['Timestamp']>8])\n",
    "end1 = end1[1][0]\n"
   ]
  },
  {
   "cell_type": "code",
   "execution_count": 10,
   "id": "fbca5ac5-75ce-411c-9e3f-42c90fdbc083",
   "metadata": {},
   "outputs": [
    {
     "data": {
      "text/html": [
       "<div>\n",
       "<style scoped>\n",
       "    .dataframe tbody tr th:only-of-type {\n",
       "        vertical-align: middle;\n",
       "    }\n",
       "\n",
       "    .dataframe tbody tr th {\n",
       "        vertical-align: top;\n",
       "    }\n",
       "\n",
       "    .dataframe thead th {\n",
       "        text-align: right;\n",
       "    }\n",
       "</style>\n",
       "<table border=\"1\" class=\"dataframe\">\n",
       "  <thead>\n",
       "    <tr style=\"text-align: right;\">\n",
       "      <th></th>\n",
       "      <th>Timestamp</th>\n",
       "      <th>Position</th>\n",
       "      <th>Reaction Force</th>\n",
       "      <th>Apllied Force</th>\n",
       "      <th>Impedence</th>\n",
       "    </tr>\n",
       "  </thead>\n",
       "  <tbody>\n",
       "    <tr>\n",
       "      <th>61117</th>\n",
       "      <td>2.000030</td>\n",
       "      <td>0.001380</td>\n",
       "      <td>0.807983</td>\n",
       "      <td>0.8</td>\n",
       "      <td>585.697319</td>\n",
       "    </tr>\n",
       "    <tr>\n",
       "      <th>61118</th>\n",
       "      <td>2.000063</td>\n",
       "      <td>0.001380</td>\n",
       "      <td>0.807589</td>\n",
       "      <td>0.8</td>\n",
       "      <td>585.411876</td>\n",
       "    </tr>\n",
       "    <tr>\n",
       "      <th>61119</th>\n",
       "      <td>2.000095</td>\n",
       "      <td>0.001380</td>\n",
       "      <td>0.807214</td>\n",
       "      <td>0.8</td>\n",
       "      <td>585.140026</td>\n",
       "    </tr>\n",
       "    <tr>\n",
       "      <th>61120</th>\n",
       "      <td>2.000127</td>\n",
       "      <td>0.001380</td>\n",
       "      <td>0.806846</td>\n",
       "      <td>0.8</td>\n",
       "      <td>584.872946</td>\n",
       "    </tr>\n",
       "    <tr>\n",
       "      <th>61121</th>\n",
       "      <td>2.000159</td>\n",
       "      <td>0.001380</td>\n",
       "      <td>0.806484</td>\n",
       "      <td>0.8</td>\n",
       "      <td>584.610565</td>\n",
       "    </tr>\n",
       "    <tr>\n",
       "      <th>...</th>\n",
       "      <td>...</td>\n",
       "      <td>...</td>\n",
       "      <td>...</td>\n",
       "      <td>...</td>\n",
       "      <td>...</td>\n",
       "    </tr>\n",
       "    <tr>\n",
       "      <th>243784</th>\n",
       "      <td>7.999869</td>\n",
       "      <td>0.001514</td>\n",
       "      <td>0.793226</td>\n",
       "      <td>0.8</td>\n",
       "      <td>523.762255</td>\n",
       "    </tr>\n",
       "    <tr>\n",
       "      <th>243785</th>\n",
       "      <td>7.999901</td>\n",
       "      <td>0.001514</td>\n",
       "      <td>0.793252</td>\n",
       "      <td>0.8</td>\n",
       "      <td>523.779632</td>\n",
       "    </tr>\n",
       "    <tr>\n",
       "      <th>243786</th>\n",
       "      <td>7.999934</td>\n",
       "      <td>0.001514</td>\n",
       "      <td>0.793279</td>\n",
       "      <td>0.8</td>\n",
       "      <td>523.797588</td>\n",
       "    </tr>\n",
       "    <tr>\n",
       "      <th>243787</th>\n",
       "      <td>7.999966</td>\n",
       "      <td>0.001514</td>\n",
       "      <td>0.793306</td>\n",
       "      <td>0.8</td>\n",
       "      <td>523.815029</td>\n",
       "    </tr>\n",
       "    <tr>\n",
       "      <th>243788</th>\n",
       "      <td>7.999998</td>\n",
       "      <td>0.001514</td>\n",
       "      <td>0.793332</td>\n",
       "      <td>0.8</td>\n",
       "      <td>523.832499</td>\n",
       "    </tr>\n",
       "  </tbody>\n",
       "</table>\n",
       "<p>182672 rows × 5 columns</p>\n",
       "</div>"
      ],
      "text/plain": [
       "        Timestamp  Position  Reaction Force  Apllied Force   Impedence\n",
       "61117    2.000030  0.001380        0.807983            0.8  585.697319\n",
       "61118    2.000063  0.001380        0.807589            0.8  585.411876\n",
       "61119    2.000095  0.001380        0.807214            0.8  585.140026\n",
       "61120    2.000127  0.001380        0.806846            0.8  584.872946\n",
       "61121    2.000159  0.001380        0.806484            0.8  584.610565\n",
       "...           ...       ...             ...            ...         ...\n",
       "243784   7.999869  0.001514        0.793226            0.8  523.762255\n",
       "243785   7.999901  0.001514        0.793252            0.8  523.779632\n",
       "243786   7.999934  0.001514        0.793279            0.8  523.797588\n",
       "243787   7.999966  0.001514        0.793306            0.8  523.815029\n",
       "243788   7.999998  0.001514        0.793332            0.8  523.832499\n",
       "\n",
       "[182672 rows x 5 columns]"
      ]
     },
     "execution_count": 10,
     "metadata": {},
     "output_type": "execute_result"
    }
   ],
   "source": [
    "sliced_data1 = raw_data1[start1+1:end1]\n",
    "sliced_data1"
   ]
  },
  {
   "cell_type": "code",
   "execution_count": 11,
   "id": "80b15985-dbe0-4206-9d0d-ea019e2ba4a2",
   "metadata": {},
   "outputs": [],
   "source": [
    "t = sliced_data1['Timestamp'] \n",
    "x_r = sliced_data1['Position'] - sliced_data1['Position'].mean()\n",
    "f_r= sliced_data1['Reaction Force']-sliced_data1['Reaction Force'].mean()\n",
    "z = sliced_data1['Impedence']"
   ]
  },
  {
   "cell_type": "code",
   "execution_count": 12,
   "id": "3d99f528-db27-403f-b6fd-d2503fe3ab4b",
   "metadata": {},
   "outputs": [
    {
     "data": {
      "text/plain": [
       "[<matplotlib.lines.Line2D at 0x1d8896ec850>]"
      ]
     },
     "execution_count": 12,
     "metadata": {},
     "output_type": "execute_result"
    },
    {
     "data": {
      "image/png": "[encoded data removed]",
      "text/plain": [
       "<Figure size 640x480 with 1 Axes>"
      ]
     },
     "metadata": {},
     "output_type": "display_data"
    }
   ],
   "source": [
    "fig = plt.figure()\n",
    "plt.plot(t,x_r)\n",
    "#plt.plot(Timestamp2,Rotary_disp2)"
   ]
  },
  {
   "cell_type": "code",
   "execution_count": 13,
   "id": "6d863db4-6ea3-41fe-ba4e-908ddca6f082",
   "metadata": {},
   "outputs": [
    {
     "data": {
      "text/plain": [
       "[<matplotlib.lines.Line2D at 0x1d889fb0c70>]"
      ]
     },
     "execution_count": 13,
     "metadata": {},
     "output_type": "execute_result"
    },
    {
     "data": {
      "image/png": "[encoded data removed]",
      "text/plain": [
       "<Figure size 640x480 with 1 Axes>"
      ]
     },
     "metadata": {},
     "output_type": "display_data"
    }
   ],
   "source": [
    "fig = plt.figure()\n",
    "plt.plot(t,f_r)\n",
    "#plt.plot(Timestamp2,Rotary_disp2)"
   ]
  },
  {
   "cell_type": "code",
   "execution_count": 14,
   "id": "68617f55-2677-4abe-8a9b-bd576ba044a9",
   "metadata": {},
   "outputs": [
    {
     "data": {
      "text/html": [
       "<div>\n",
       "<style scoped>\n",
       "    .dataframe tbody tr th:only-of-type {\n",
       "        vertical-align: middle;\n",
       "    }\n",
       "\n",
       "    .dataframe tbody tr th {\n",
       "        vertical-align: top;\n",
       "    }\n",
       "\n",
       "    .dataframe thead th {\n",
       "        text-align: right;\n",
       "    }\n",
       "</style>\n",
       "<table border=\"1\" class=\"dataframe\">\n",
       "  <thead>\n",
       "    <tr style=\"text-align: right;\">\n",
       "      <th></th>\n",
       "      <th>Timestamp</th>\n",
       "      <th>Position</th>\n",
       "      <th>Reaction Force</th>\n",
       "      <th>Apllied Force</th>\n",
       "      <th>Impedence</th>\n",
       "    </tr>\n",
       "  </thead>\n",
       "  <tbody>\n",
       "    <tr>\n",
       "      <th>61117</th>\n",
       "      <td>0.000000</td>\n",
       "      <td>0.001380</td>\n",
       "      <td>0.807983</td>\n",
       "      <td>0.8</td>\n",
       "      <td>585.697319</td>\n",
       "    </tr>\n",
       "    <tr>\n",
       "      <th>61118</th>\n",
       "      <td>0.000033</td>\n",
       "      <td>0.001380</td>\n",
       "      <td>0.807589</td>\n",
       "      <td>0.8</td>\n",
       "      <td>585.411876</td>\n",
       "    </tr>\n",
       "    <tr>\n",
       "      <th>61119</th>\n",
       "      <td>0.000065</td>\n",
       "      <td>0.001380</td>\n",
       "      <td>0.807214</td>\n",
       "      <td>0.8</td>\n",
       "      <td>585.140026</td>\n",
       "    </tr>\n",
       "    <tr>\n",
       "      <th>61120</th>\n",
       "      <td>0.000097</td>\n",
       "      <td>0.001380</td>\n",
       "      <td>0.806846</td>\n",
       "      <td>0.8</td>\n",
       "      <td>584.872946</td>\n",
       "    </tr>\n",
       "    <tr>\n",
       "      <th>61121</th>\n",
       "      <td>0.000129</td>\n",
       "      <td>0.001380</td>\n",
       "      <td>0.806484</td>\n",
       "      <td>0.8</td>\n",
       "      <td>584.610565</td>\n",
       "    </tr>\n",
       "    <tr>\n",
       "      <th>...</th>\n",
       "      <td>...</td>\n",
       "      <td>...</td>\n",
       "      <td>...</td>\n",
       "      <td>...</td>\n",
       "      <td>...</td>\n",
       "    </tr>\n",
       "    <tr>\n",
       "      <th>243784</th>\n",
       "      <td>5.999839</td>\n",
       "      <td>0.001514</td>\n",
       "      <td>0.793226</td>\n",
       "      <td>0.8</td>\n",
       "      <td>523.762255</td>\n",
       "    </tr>\n",
       "    <tr>\n",
       "      <th>243785</th>\n",
       "      <td>5.999871</td>\n",
       "      <td>0.001514</td>\n",
       "      <td>0.793252</td>\n",
       "      <td>0.8</td>\n",
       "      <td>523.779632</td>\n",
       "    </tr>\n",
       "    <tr>\n",
       "      <th>243786</th>\n",
       "      <td>5.999904</td>\n",
       "      <td>0.001514</td>\n",
       "      <td>0.793279</td>\n",
       "      <td>0.8</td>\n",
       "      <td>523.797588</td>\n",
       "    </tr>\n",
       "    <tr>\n",
       "      <th>243787</th>\n",
       "      <td>5.999936</td>\n",
       "      <td>0.001514</td>\n",
       "      <td>0.793306</td>\n",
       "      <td>0.8</td>\n",
       "      <td>523.815029</td>\n",
       "    </tr>\n",
       "    <tr>\n",
       "      <th>243788</th>\n",
       "      <td>5.999968</td>\n",
       "      <td>0.001514</td>\n",
       "      <td>0.793332</td>\n",
       "      <td>0.8</td>\n",
       "      <td>523.832499</td>\n",
       "    </tr>\n",
       "  </tbody>\n",
       "</table>\n",
       "<p>182672 rows × 5 columns</p>\n",
       "</div>"
      ],
      "text/plain": [
       "        Timestamp  Position  Reaction Force  Apllied Force   Impedence\n",
       "61117    0.000000  0.001380        0.807983            0.8  585.697319\n",
       "61118    0.000033  0.001380        0.807589            0.8  585.411876\n",
       "61119    0.000065  0.001380        0.807214            0.8  585.140026\n",
       "61120    0.000097  0.001380        0.806846            0.8  584.872946\n",
       "61121    0.000129  0.001380        0.806484            0.8  584.610565\n",
       "...           ...       ...             ...            ...         ...\n",
       "243784   5.999839  0.001514        0.793226            0.8  523.762255\n",
       "243785   5.999871  0.001514        0.793252            0.8  523.779632\n",
       "243786   5.999904  0.001514        0.793279            0.8  523.797588\n",
       "243787   5.999936  0.001514        0.793306            0.8  523.815029\n",
       "243788   5.999968  0.001514        0.793332            0.8  523.832499\n",
       "\n",
       "[182672 rows x 5 columns]"
      ]
     },
     "execution_count": 14,
     "metadata": {},
     "output_type": "execute_result"
    }
   ],
   "source": [
    "sliced_data1['Timestamp'] = sliced_data1['Timestamp'] - sliced_data1.iloc[0]['Timestamp']\n",
    "sliced_data1"
   ]
  },
  {
   "cell_type": "markdown",
   "id": "7f3a85d8-267f-4cd2-9d18-42aec5ed3960",
   "metadata": {
    "tags": []
   },
   "source": [
    "# Slicing and Writing to seperate files (30000 per file)"
   ]
  },
  {
   "cell_type": "code",
   "execution_count": 15,
   "id": "cb310f3b-ec99-40f9-9d9d-2010d995439e",
   "metadata": {},
   "outputs": [],
   "source": [
    "#Slice_count = np.where([sliced_data1['Timestamp']<=4])\n",
    "#Slice_count = Slice_count[1][-1]\n",
    "Slice_count = 30000\n",
    "g_velocity = 100;\n",
    "g_acceleration = 100;"
   ]
  },
  {
   "cell_type": "code",
   "execution_count": 17,
   "id": "6c62461b-c497-493a-a48b-50e7ddb045ab",
   "metadata": {},
   "outputs": [
    {
     "ename": "KeyError",
     "evalue": "0",
     "output_type": "error",
     "traceback": [
      "\u001b[1;31m---------------------------------------------------------------------------\u001b[0m",
      "\u001b[1;31mValueError\u001b[0m                                Traceback (most recent call last)",
      "\u001b[1;32m~\\anaconda3\\lib\\site-packages\\pandas\\core\\indexes\\range.py\u001b[0m in \u001b[0;36mget_loc\u001b[1;34m(self, key, method, tolerance)\u001b[0m\n\u001b[0;32m    384\u001b[0m                 \u001b[1;32mtry\u001b[0m\u001b[1;33m:\u001b[0m\u001b[1;33m\u001b[0m\u001b[1;33m\u001b[0m\u001b[0m\n\u001b[1;32m--> 385\u001b[1;33m                     \u001b[1;32mreturn\u001b[0m \u001b[0mself\u001b[0m\u001b[1;33m.\u001b[0m\u001b[0m_range\u001b[0m\u001b[1;33m.\u001b[0m\u001b[0mindex\u001b[0m\u001b[1;33m(\u001b[0m\u001b[0mnew_key\u001b[0m\u001b[1;33m)\u001b[0m\u001b[1;33m\u001b[0m\u001b[1;33m\u001b[0m\u001b[0m\n\u001b[0m\u001b[0;32m    386\u001b[0m                 \u001b[1;32mexcept\u001b[0m \u001b[0mValueError\u001b[0m \u001b[1;32mas\u001b[0m \u001b[0merr\u001b[0m\u001b[1;33m:\u001b[0m\u001b[1;33m\u001b[0m\u001b[1;33m\u001b[0m\u001b[0m\n",
      "\u001b[1;31mValueError\u001b[0m: 0 is not in range",
      "\nThe above exception was the direct cause of the following exception:\n",
      "\u001b[1;31mKeyError\u001b[0m                                  Traceback (most recent call last)",
      "\u001b[1;32mC:\\Users\\Public\\Documents\\Wondershare\\CreatorTemp\\ipykernel_12948\\1159325802.py\u001b[0m in \u001b[0;36m<module>\u001b[1;34m\u001b[0m\n\u001b[0;32m     10\u001b[0m     \u001b[0mdf2\u001b[0m\u001b[1;33m[\u001b[0m\u001b[1;34m'Acceleration'\u001b[0m\u001b[1;33m]\u001b[0m\u001b[1;33m=\u001b[0m \u001b[1;36m0\u001b[0m\u001b[1;33m\u001b[0m\u001b[1;33m\u001b[0m\u001b[0m\n\u001b[0;32m     11\u001b[0m     \u001b[1;32mfor\u001b[0m \u001b[0mk\u001b[0m \u001b[1;32min\u001b[0m \u001b[0mrange\u001b[0m\u001b[1;33m(\u001b[0m\u001b[1;36m1\u001b[0m\u001b[1;33m,\u001b[0m\u001b[0mlen\u001b[0m\u001b[1;33m(\u001b[0m\u001b[0mdf2\u001b[0m\u001b[1;33m)\u001b[0m\u001b[1;33m)\u001b[0m\u001b[1;33m:\u001b[0m\u001b[1;33m\u001b[0m\u001b[1;33m\u001b[0m\u001b[0m\n\u001b[1;32m---> 12\u001b[1;33m         \u001b[0mdf2\u001b[0m\u001b[1;33m[\u001b[0m\u001b[1;34m'Position_sum'\u001b[0m\u001b[1;33m]\u001b[0m\u001b[1;33m[\u001b[0m\u001b[0mk\u001b[0m\u001b[1;33m]\u001b[0m\u001b[1;33m=\u001b[0m \u001b[0mdf2\u001b[0m\u001b[1;33m[\u001b[0m\u001b[1;34m'Position_sum'\u001b[0m\u001b[1;33m]\u001b[0m\u001b[1;33m[\u001b[0m\u001b[0mk\u001b[0m\u001b[1;33m-\u001b[0m\u001b[1;36m1\u001b[0m\u001b[1;33m]\u001b[0m\u001b[1;33m+\u001b[0m\u001b[0mdf2\u001b[0m\u001b[1;33m[\u001b[0m\u001b[1;34m'Velocity'\u001b[0m\u001b[1;33m]\u001b[0m\u001b[1;33m[\u001b[0m\u001b[0mk\u001b[0m\u001b[1;33m-\u001b[0m\u001b[1;36m1\u001b[0m\u001b[1;33m]\u001b[0m\u001b[1;33m*\u001b[0m\u001b[1;33m(\u001b[0m\u001b[0mdf2\u001b[0m\u001b[1;33m[\u001b[0m\u001b[1;34m'Timestamp'\u001b[0m\u001b[1;33m]\u001b[0m\u001b[1;33m[\u001b[0m\u001b[0mk\u001b[0m\u001b[1;33m]\u001b[0m\u001b[1;33m-\u001b[0m\u001b[0mdf2\u001b[0m\u001b[1;33m[\u001b[0m\u001b[1;34m'Timestamp'\u001b[0m\u001b[1;33m]\u001b[0m\u001b[1;33m[\u001b[0m\u001b[0mk\u001b[0m\u001b[1;33m-\u001b[0m\u001b[1;36m1\u001b[0m\u001b[1;33m]\u001b[0m\u001b[1;33m)\u001b[0m\u001b[1;33m\u001b[0m\u001b[1;33m\u001b[0m\u001b[0m\n\u001b[0m\u001b[0;32m     13\u001b[0m         \u001b[0mdf2\u001b[0m\u001b[1;33m[\u001b[0m\u001b[1;34m'Velocity'\u001b[0m\u001b[1;33m]\u001b[0m\u001b[1;33m[\u001b[0m\u001b[0mk\u001b[0m\u001b[1;33m]\u001b[0m\u001b[1;33m=\u001b[0m \u001b[0mg_velocity\u001b[0m\u001b[1;33m*\u001b[0m\u001b[1;33m(\u001b[0m\u001b[0mdf2\u001b[0m\u001b[1;33m[\u001b[0m\u001b[1;34m'Position'\u001b[0m\u001b[1;33m]\u001b[0m\u001b[1;33m[\u001b[0m\u001b[0mk\u001b[0m\u001b[1;33m]\u001b[0m\u001b[1;33m-\u001b[0m\u001b[0mdf2\u001b[0m\u001b[1;33m[\u001b[0m\u001b[1;34m'Position_sum'\u001b[0m\u001b[1;33m]\u001b[0m\u001b[1;33m[\u001b[0m\u001b[0mk\u001b[0m\u001b[1;33m]\u001b[0m\u001b[1;33m)\u001b[0m\u001b[1;33m\u001b[0m\u001b[1;33m\u001b[0m\u001b[0m\n\u001b[0;32m     14\u001b[0m         \u001b[0mdf2\u001b[0m\u001b[1;33m[\u001b[0m\u001b[1;34m'Velocity_sum'\u001b[0m\u001b[1;33m]\u001b[0m\u001b[1;33m[\u001b[0m\u001b[0mk\u001b[0m\u001b[1;33m]\u001b[0m\u001b[1;33m=\u001b[0m \u001b[0mdf2\u001b[0m\u001b[1;33m[\u001b[0m\u001b[1;34m'Velocity_sum'\u001b[0m\u001b[1;33m]\u001b[0m\u001b[1;33m[\u001b[0m\u001b[0mk\u001b[0m\u001b[1;33m-\u001b[0m\u001b[1;36m1\u001b[0m\u001b[1;33m]\u001b[0m\u001b[1;33m+\u001b[0m\u001b[0mdf2\u001b[0m\u001b[1;33m[\u001b[0m\u001b[1;34m'Acceleration'\u001b[0m\u001b[1;33m]\u001b[0m\u001b[1;33m[\u001b[0m\u001b[0mk\u001b[0m\u001b[1;33m-\u001b[0m\u001b[1;36m1\u001b[0m\u001b[1;33m]\u001b[0m\u001b[1;33m*\u001b[0m\u001b[1;33m(\u001b[0m\u001b[0mdf2\u001b[0m\u001b[1;33m[\u001b[0m\u001b[1;34m'Timestamp'\u001b[0m\u001b[1;33m]\u001b[0m\u001b[1;33m[\u001b[0m\u001b[0mk\u001b[0m\u001b[1;33m]\u001b[0m\u001b[1;33m-\u001b[0m\u001b[0mdf2\u001b[0m\u001b[1;33m[\u001b[0m\u001b[1;34m'Timestamp'\u001b[0m\u001b[1;33m]\u001b[0m\u001b[1;33m[\u001b[0m\u001b[0mk\u001b[0m\u001b[1;33m-\u001b[0m\u001b[1;36m1\u001b[0m\u001b[1;33m]\u001b[0m\u001b[1;33m)\u001b[0m\u001b[1;33m\u001b[0m\u001b[1;33m\u001b[0m\u001b[0m\n",
      "\u001b[1;32m~\\anaconda3\\lib\\site-packages\\pandas\\core\\series.py\u001b[0m in \u001b[0;36m__getitem__\u001b[1;34m(self, key)\u001b[0m\n\u001b[0;32m    956\u001b[0m \u001b[1;33m\u001b[0m\u001b[0m\n\u001b[0;32m    957\u001b[0m         \u001b[1;32melif\u001b[0m \u001b[0mkey_is_scalar\u001b[0m\u001b[1;33m:\u001b[0m\u001b[1;33m\u001b[0m\u001b[1;33m\u001b[0m\u001b[0m\n\u001b[1;32m--> 958\u001b[1;33m             \u001b[1;32mreturn\u001b[0m \u001b[0mself\u001b[0m\u001b[1;33m.\u001b[0m\u001b[0m_get_value\u001b[0m\u001b[1;33m(\u001b[0m\u001b[0mkey\u001b[0m\u001b[1;33m)\u001b[0m\u001b[1;33m\u001b[0m\u001b[1;33m\u001b[0m\u001b[0m\n\u001b[0m\u001b[0;32m    959\u001b[0m \u001b[1;33m\u001b[0m\u001b[0m\n\u001b[0;32m    960\u001b[0m         \u001b[1;32mif\u001b[0m \u001b[0mis_hashable\u001b[0m\u001b[1;33m(\u001b[0m\u001b[0mkey\u001b[0m\u001b[1;33m)\u001b[0m\u001b[1;33m:\u001b[0m\u001b[1;33m\u001b[0m\u001b[1;33m\u001b[0m\u001b[0m\n",
      "\u001b[1;32m~\\anaconda3\\lib\\site-packages\\pandas\\core\\series.py\u001b[0m in \u001b[0;36m_get_value\u001b[1;34m(self, label, takeable)\u001b[0m\n\u001b[0;32m   1067\u001b[0m \u001b[1;33m\u001b[0m\u001b[0m\n\u001b[0;32m   1068\u001b[0m         \u001b[1;31m# Similar to Index.get_value, but we do not fall back to positional\u001b[0m\u001b[1;33m\u001b[0m\u001b[1;33m\u001b[0m\u001b[0m\n\u001b[1;32m-> 1069\u001b[1;33m         \u001b[0mloc\u001b[0m \u001b[1;33m=\u001b[0m \u001b[0mself\u001b[0m\u001b[1;33m.\u001b[0m\u001b[0mindex\u001b[0m\u001b[1;33m.\u001b[0m\u001b[0mget_loc\u001b[0m\u001b[1;33m(\u001b[0m\u001b[0mlabel\u001b[0m\u001b[1;33m)\u001b[0m\u001b[1;33m\u001b[0m\u001b[1;33m\u001b[0m\u001b[0m\n\u001b[0m\u001b[0;32m   1070\u001b[0m         \u001b[1;32mreturn\u001b[0m \u001b[0mself\u001b[0m\u001b[1;33m.\u001b[0m\u001b[0mindex\u001b[0m\u001b[1;33m.\u001b[0m\u001b[0m_get_values_for_loc\u001b[0m\u001b[1;33m(\u001b[0m\u001b[0mself\u001b[0m\u001b[1;33m,\u001b[0m \u001b[0mloc\u001b[0m\u001b[1;33m,\u001b[0m \u001b[0mlabel\u001b[0m\u001b[1;33m)\u001b[0m\u001b[1;33m\u001b[0m\u001b[1;33m\u001b[0m\u001b[0m\n\u001b[0;32m   1071\u001b[0m \u001b[1;33m\u001b[0m\u001b[0m\n",
      "\u001b[1;32m~\\anaconda3\\lib\\site-packages\\pandas\\core\\indexes\\range.py\u001b[0m in \u001b[0;36mget_loc\u001b[1;34m(self, key, method, tolerance)\u001b[0m\n\u001b[0;32m    385\u001b[0m                     \u001b[1;32mreturn\u001b[0m \u001b[0mself\u001b[0m\u001b[1;33m.\u001b[0m\u001b[0m_range\u001b[0m\u001b[1;33m.\u001b[0m\u001b[0mindex\u001b[0m\u001b[1;33m(\u001b[0m\u001b[0mnew_key\u001b[0m\u001b[1;33m)\u001b[0m\u001b[1;33m\u001b[0m\u001b[1;33m\u001b[0m\u001b[0m\n\u001b[0;32m    386\u001b[0m                 \u001b[1;32mexcept\u001b[0m \u001b[0mValueError\u001b[0m \u001b[1;32mas\u001b[0m \u001b[0merr\u001b[0m\u001b[1;33m:\u001b[0m\u001b[1;33m\u001b[0m\u001b[1;33m\u001b[0m\u001b[0m\n\u001b[1;32m--> 387\u001b[1;33m                     \u001b[1;32mraise\u001b[0m \u001b[0mKeyError\u001b[0m\u001b[1;33m(\u001b[0m\u001b[0mkey\u001b[0m\u001b[1;33m)\u001b[0m \u001b[1;32mfrom\u001b[0m \u001b[0merr\u001b[0m\u001b[1;33m\u001b[0m\u001b[1;33m\u001b[0m\u001b[0m\n\u001b[0m\u001b[0;32m    388\u001b[0m             \u001b[0mself\u001b[0m\u001b[1;33m.\u001b[0m\u001b[0m_check_indexing_error\u001b[0m\u001b[1;33m(\u001b[0m\u001b[0mkey\u001b[0m\u001b[1;33m)\u001b[0m\u001b[1;33m\u001b[0m\u001b[1;33m\u001b[0m\u001b[0m\n\u001b[0;32m    389\u001b[0m             \u001b[1;32mraise\u001b[0m \u001b[0mKeyError\u001b[0m\u001b[1;33m(\u001b[0m\u001b[0mkey\u001b[0m\u001b[1;33m)\u001b[0m\u001b[1;33m\u001b[0m\u001b[1;33m\u001b[0m\u001b[0m\n",
      "\u001b[1;31mKeyError\u001b[0m: 0"
     ]
    }
   ],
   "source": [
    "for i in range(5):\n",
    "    df2 = sliced_data1[i*(Slice_count):(i+1)*(Slice_count)]\n",
    "    df2['Timestamp'] = df2['Timestamp'] - df2.iloc[0]['Timestamp']\n",
    "    df2['Position'] = df2['Position'] - df2['Position'].mean() \n",
    "    df2['Reaction Force'] = df2['Reaction Force'] - df2['Reaction Force'].mean()\n",
    "    df2['Velocity']= 0\n",
    "    df2['Position_sum']= 0\n",
    "    df2['Velocity_sum']= 0\n",
    "    df2['Stiffness']= df2['Impedence']\n",
    "    df2['Acceleration']= 0\n",
    "    for k in range(1,len(df2)):\n",
    "        df2['Position_sum'][k]= df2['Position_sum'][k-1]+df2['Velocity'][k-1]*(df2['Timestamp'][k]-df2['Timestamp'][k-1])\n",
    "        df2['Velocity'][k]= g_velocity*(df2['Position'][k]-df2['Position_sum'][k])\n",
    "        df2['Velocity_sum'][k]= df2['Velocity_sum'][k-1]+df2['Acceleration'][k-1]*(df2['Timestamp'][k]-df2['Timestamp'][k-1])\n",
    "        df2['Acceleration'][k]= g_acceleration*(df2['Velocity'][k]-df2['Velocity_sum'][k])\n",
    "    df2['F*x area'] = df2['Reaction Force']*df2['Position']\n",
    "    df2 = df2.drop('Impedence',axis=1)\n",
    "    df2 = df2.drop('Position_sum',axis=1)\n",
    "    df2 = df2.drop('Velocity_sum',axis=1)\n",
    "    df2 = df2.drop('Apllied Force',axis=1)\n",
    "    df2 = df2.drop('Timestamp',axis=1)\n",
    "    df2.to_csv(\"D:\\FYP_ML\\Processed Data\\S1\\S1_\" + str(i+802) +\".csv\",index=False)\n"
   ]
  },
  {
   "cell_type": "code",
   "execution_count": 2358,
   "id": "252de890-c7a6-4998-90b3-88ba354c787c",
   "metadata": {},
   "outputs": [
    {
     "data": {
      "text/plain": [
       "30000"
      ]
     },
     "execution_count": 2358,
     "metadata": {},
     "output_type": "execute_result"
    }
   ],
   "source": [
    "len(data)"
   ]
  },
  {
   "cell_type": "code",
   "execution_count": null,
   "id": "f889f8ae-b6af-4112-9958-d001aacc592e",
   "metadata": {},
   "outputs": [],
   "source": []
  },
  {
   "cell_type": "code",
   "execution_count": null,
   "id": "dd3fabb7-3844-40c7-aa4c-eb3991da670a",
   "metadata": {},
   "outputs": [],
   "source": []
  }
 ],
 "metadata": {
  "kernelspec": {
   "display_name": "Python 3 (ipykernel)",
   "language": "python",
   "name": "python3"
  },
  "language_info": {
   "codemirror_mode": {
    "name": "ipython",
    "version": 3
   },
   "file_extension": ".py",
   "mimetype": "text/x-python",
   "name": "python",
   "nbconvert_exporter": "python",
   "pygments_lexer": "ipython3",
   "version": "3.9.13"
  }
 },
 "nbformat": 4,
 "nbformat_minor": 5
}
