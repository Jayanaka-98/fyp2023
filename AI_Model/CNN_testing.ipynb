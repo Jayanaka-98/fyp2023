{
 "cells": [
  {
   "cell_type": "code",
   "execution_count": 50,
   "metadata": {},
   "outputs": [],
   "source": [
    "import numpy as np\n",
    "import pandas as pd\n",
    "import matplotlib.pyplot as plt\n",
    "import tensorflow as tf\n",
    "from tensorflow.keras import datasets, layers, models\n",
    "import warnings\n",
    "warnings.filterwarnings('ignore')\n",
    "import os\n",
    "from sklearn.model_selection import train_test_split\n"
   ]
  },
  {
   "cell_type": "code",
   "execution_count": 51,
   "metadata": {},
   "outputs": [],
   "source": [
    "target_1 = []\n",
    "target_2 = []\n",
    "target_3 = []\n",
    "\n",
    "surface_1 = []\n",
    "surface_2 = []\n",
    "surface_3 = []\n",
    "surfaces = []\n"
   ]
  },
  {
   "cell_type": "code",
   "execution_count": 52,
   "metadata": {},
   "outputs": [
    {
     "data": {
      "text/html": [
       "<div>\n",
       "<style scoped>\n",
       "    .dataframe tbody tr th:only-of-type {\n",
       "        vertical-align: middle;\n",
       "    }\n",
       "\n",
       "    .dataframe tbody tr th {\n",
       "        vertical-align: top;\n",
       "    }\n",
       "\n",
       "    .dataframe thead th {\n",
       "        text-align: right;\n",
       "    }\n",
       "</style>\n",
       "<table border=\"1\" class=\"dataframe\">\n",
       "  <thead>\n",
       "    <tr style=\"text-align: right;\">\n",
       "      <th></th>\n",
       "      <th>Position</th>\n",
       "      <th>Reaction Force</th>\n",
       "      <th>Velocity</th>\n",
       "      <th>Stiffness</th>\n",
       "    </tr>\n",
       "  </thead>\n",
       "  <tbody>\n",
       "    <tr>\n",
       "      <th>0</th>\n",
       "      <td>0.000029</td>\n",
       "      <td>0.052305</td>\n",
       "      <td>0.000000</td>\n",
       "      <td>-26312.355307</td>\n",
       "    </tr>\n",
       "    <tr>\n",
       "      <th>1</th>\n",
       "      <td>0.000029</td>\n",
       "      <td>0.050979</td>\n",
       "      <td>0.002891</td>\n",
       "      <td>-26279.210486</td>\n",
       "    </tr>\n",
       "    <tr>\n",
       "      <th>2</th>\n",
       "      <td>0.000029</td>\n",
       "      <td>0.049715</td>\n",
       "      <td>0.002882</td>\n",
       "      <td>-26247.591568</td>\n",
       "    </tr>\n",
       "    <tr>\n",
       "      <th>3</th>\n",
       "      <td>0.000029</td>\n",
       "      <td>0.048432</td>\n",
       "      <td>0.002873</td>\n",
       "      <td>-26215.508089</td>\n",
       "    </tr>\n",
       "    <tr>\n",
       "      <th>4</th>\n",
       "      <td>0.000029</td>\n",
       "      <td>0.047170</td>\n",
       "      <td>0.002863</td>\n",
       "      <td>-26183.951925</td>\n",
       "    </tr>\n",
       "    <tr>\n",
       "      <th>...</th>\n",
       "      <td>...</td>\n",
       "      <td>...</td>\n",
       "      <td>...</td>\n",
       "      <td>...</td>\n",
       "    </tr>\n",
       "    <tr>\n",
       "      <th>29995</th>\n",
       "      <td>0.000024</td>\n",
       "      <td>-0.020274</td>\n",
       "      <td>0.000734</td>\n",
       "      <td>-21775.342407</td>\n",
       "    </tr>\n",
       "    <tr>\n",
       "      <th>29996</th>\n",
       "      <td>0.000024</td>\n",
       "      <td>-0.019678</td>\n",
       "      <td>0.000731</td>\n",
       "      <td>-21788.598176</td>\n",
       "    </tr>\n",
       "    <tr>\n",
       "      <th>29997</th>\n",
       "      <td>0.000024</td>\n",
       "      <td>-0.019155</td>\n",
       "      <td>0.000729</td>\n",
       "      <td>-21800.209830</td>\n",
       "    </tr>\n",
       "    <tr>\n",
       "      <th>29998</th>\n",
       "      <td>0.000024</td>\n",
       "      <td>-0.018657</td>\n",
       "      <td>0.000727</td>\n",
       "      <td>-21811.285629</td>\n",
       "    </tr>\n",
       "    <tr>\n",
       "      <th>29999</th>\n",
       "      <td>0.000024</td>\n",
       "      <td>-0.018167</td>\n",
       "      <td>0.000724</td>\n",
       "      <td>-21822.183973</td>\n",
       "    </tr>\n",
       "  </tbody>\n",
       "</table>\n",
       "<p>30000 rows × 4 columns</p>\n",
       "</div>"
      ],
      "text/plain": [
       "       Position  Reaction Force  Velocity     Stiffness\n",
       "0      0.000029        0.052305  0.000000 -26312.355307\n",
       "1      0.000029        0.050979  0.002891 -26279.210486\n",
       "2      0.000029        0.049715  0.002882 -26247.591568\n",
       "3      0.000029        0.048432  0.002873 -26215.508089\n",
       "4      0.000029        0.047170  0.002863 -26183.951925\n",
       "...         ...             ...       ...           ...\n",
       "29995  0.000024       -0.020274  0.000734 -21775.342407\n",
       "29996  0.000024       -0.019678  0.000731 -21788.598176\n",
       "29997  0.000024       -0.019155  0.000729 -21800.209830\n",
       "29998  0.000024       -0.018657  0.000727 -21811.285629\n",
       "29999  0.000024       -0.018167  0.000724 -21822.183973\n",
       "\n",
       "[30000 rows x 4 columns]"
      ]
     },
     "execution_count": 52,
     "metadata": {},
     "output_type": "execute_result"
    }
   ],
   "source": [
    "df = pd.read_csv('/home/jayanaka_98/Documents/AI Model Data/Processed Data/S1/S1_1.csv', header=0)\n",
    "df.drop(['Acceleration','F*x area'], axis=1)"
   ]
  },
  {
   "cell_type": "code",
   "execution_count": 53,
   "metadata": {},
   "outputs": [],
   "source": [
    "n = 10\n",
    "for i in range(1, n):  #107\n",
    "    filename = '/home/jayanaka_98/Documents/AI Model Data/Processed Data/S1/S1_' + str(i) +'.csv'\n",
    "    df = pd.read_csv(filename, header=0)\n",
    "    df = df.drop(['Acceleration','F*x area'], axis=1)\n",
    "    surface_1.append(df.values)\n",
    "    target_1.append(0)\n",
    "for i in range(1, n):  #107\n",
    "    filename = '/home/jayanaka_98/Documents/AI Model Data/Processed Data/S2/S2_' + str(i) +'.csv'\n",
    "    df = pd.read_csv(filename, header=0)\n",
    "    df = df.drop(['Acceleration','F*x area'], axis=1)\n",
    "    surface_2.append(df.values)\n",
    "    target_2.append(1)\n",
    "for i in range(1, n):  #107\n",
    "    filename = '/home/jayanaka_98/Documents/AI Model Data/Processed Data/S3/S3_' + str(i) +'.csv'\n",
    "    df = pd.read_csv(filename, header=0)\n",
    "    df = df.drop(['Acceleration','F*x area'], axis=1)\n",
    "    surface_3.append(df.values)\n",
    "    target_3.append(2)"
   ]
  },
  {
   "cell_type": "code",
   "execution_count": 54,
   "metadata": {},
   "outputs": [],
   "source": [
    "# extract the time series data and the corresponding labels\n",
    "X1 = np.array(surface_1)\n",
    "X1 = X1.reshape(X1.shape[0], -1)\n",
    "\n",
    "X2 = np.array(surface_2)\n",
    "X2 = X2.reshape(X2.shape[0], -1)\n",
    "\n",
    "X3 = np.array(surface_3)\n",
    "X3 = X3.reshape(X3.shape[0], -1)\n",
    "\n",
    "y1 = np.array(target_1)\n",
    "y2 = np.array(target_2)\n",
    "y3 = np.array(target_3)"
   ]
  },
  {
   "cell_type": "code",
   "execution_count": 55,
   "metadata": {},
   "outputs": [
    {
     "data": {
      "text/plain": [
       "[1, 1, 1, 1, 1, 1, 1, 1, 1]"
      ]
     },
     "execution_count": 55,
     "metadata": {},
     "output_type": "execute_result"
    }
   ],
   "source": [
    "target_2"
   ]
  },
  {
   "cell_type": "code",
   "execution_count": 56,
   "metadata": {},
   "outputs": [],
   "source": [
    "X1_train, X1_test, y1_train, y1_test = train_test_split(surface_1, target_1, test_size=0.2, random_state=20)\n",
    "X2_train, X2_test, y2_train, y2_test = train_test_split(surface_2, target_2, test_size=0.2, random_state=20)\n",
    "X3_train, X3_test, y3_train, y3_test = train_test_split(surface_3, target_3, test_size=0.2, random_state=20)\n",
    "\n",
    "x_test = np.concatenate((X1_test,X2_test,X3_test), axis=0)\n",
    "x_train = np.concatenate((X1_train,X2_train,X3_train), axis=0)\n",
    "y_test = np.concatenate((y1_test,y2_test,y3_test), axis=0)\n",
    "y_train = np.concatenate((y1_train,y2_train,y3_train), axis=0)"
   ]
  },
  {
   "cell_type": "code",
   "execution_count": 57,
   "metadata": {},
   "outputs": [
    {
     "name": "stderr",
     "output_type": "stream",
     "text": [
      "2023-05-21 18:32:06.793743: W tensorflow/tsl/framework/bfc_allocator.cc:485] Allocator (mklcpu) ran out of memory trying to allocate 2.14GiB (rounded to 2303232256)requested by op StatelessRandomUniformV2\n",
      "If the cause is memory fragmentation maybe the environment variable 'TF_GPU_ALLOCATOR=cuda_malloc_async' will improve the situation. \n",
      "Current allocation summary follows.\n",
      "Current allocation summary follows.\n",
      "2023-05-21 18:32:06.793782: I tensorflow/tsl/framework/bfc_allocator.cc:1039] BFCAllocator dump for mklcpu\n",
      "2023-05-21 18:32:06.793789: I tensorflow/tsl/framework/bfc_allocator.cc:1046] Bin (256): \tTotal Chunks: 0, Chunks in use: 0. 0B allocated for chunks. 0B in use in bin. 0B client-requested in use in bin.\n",
      "2023-05-21 18:32:06.793809: I tensorflow/tsl/framework/bfc_allocator.cc:1046] Bin (512): \tTotal Chunks: 0, Chunks in use: 0. 0B allocated for chunks. 0B in use in bin. 0B client-requested in use in bin.\n",
      "2023-05-21 18:32:06.793815: I tensorflow/tsl/framework/bfc_allocator.cc:1046] Bin (1024): \tTotal Chunks: 0, Chunks in use: 0. 0B allocated for chunks. 0B in use in bin. 0B client-requested in use in bin.\n",
      "2023-05-21 18:32:06.793820: I tensorflow/tsl/framework/bfc_allocator.cc:1046] Bin (2048): \tTotal Chunks: 0, Chunks in use: 0. 0B allocated for chunks. 0B in use in bin. 0B client-requested in use in bin.\n",
      "2023-05-21 18:32:06.793825: I tensorflow/tsl/framework/bfc_allocator.cc:1046] Bin (4096): \tTotal Chunks: 0, Chunks in use: 0. 0B allocated for chunks. 0B in use in bin. 0B client-requested in use in bin.\n",
      "2023-05-21 18:32:06.793830: I tensorflow/tsl/framework/bfc_allocator.cc:1046] Bin (8192): \tTotal Chunks: 0, Chunks in use: 0. 0B allocated for chunks. 0B in use in bin. 0B client-requested in use in bin.\n",
      "2023-05-21 18:32:06.793835: I tensorflow/tsl/framework/bfc_allocator.cc:1046] Bin (16384): \tTotal Chunks: 0, Chunks in use: 0. 0B allocated for chunks. 0B in use in bin. 0B client-requested in use in bin.\n",
      "2023-05-21 18:32:06.793840: I tensorflow/tsl/framework/bfc_allocator.cc:1046] Bin (32768): \tTotal Chunks: 0, Chunks in use: 0. 0B allocated for chunks. 0B in use in bin. 0B client-requested in use in bin.\n",
      "2023-05-21 18:32:06.793846: I tensorflow/tsl/framework/bfc_allocator.cc:1046] Bin (65536): \tTotal Chunks: 0, Chunks in use: 0. 0B allocated for chunks. 0B in use in bin. 0B client-requested in use in bin.\n",
      "2023-05-21 18:32:06.793851: I tensorflow/tsl/framework/bfc_allocator.cc:1046] Bin (131072): \tTotal Chunks: 0, Chunks in use: 0. 0B allocated for chunks. 0B in use in bin. 0B client-requested in use in bin.\n",
      "2023-05-21 18:32:06.793857: I tensorflow/tsl/framework/bfc_allocator.cc:1046] Bin (262144): \tTotal Chunks: 4, Chunks in use: 4. 1.28MiB allocated for chunks. 1.28MiB in use in bin. 1.28MiB client-requested in use in bin.\n",
      "2023-05-21 18:32:06.793862: I tensorflow/tsl/framework/bfc_allocator.cc:1046] Bin (524288): \tTotal Chunks: 0, Chunks in use: 0. 0B allocated for chunks. 0B in use in bin. 0B client-requested in use in bin.\n",
      "2023-05-21 18:32:06.793868: I tensorflow/tsl/framework/bfc_allocator.cc:1046] Bin (1048576): \tTotal Chunks: 0, Chunks in use: 0. 0B allocated for chunks. 0B in use in bin. 0B client-requested in use in bin.\n",
      "2023-05-21 18:32:06.793874: I tensorflow/tsl/framework/bfc_allocator.cc:1046] Bin (2097152): \tTotal Chunks: 4, Chunks in use: 3. 9.16MiB allocated for chunks. 6.87MiB in use in bin. 6.87MiB client-requested in use in bin.\n",
      "2023-05-21 18:32:06.793879: I tensorflow/tsl/framework/bfc_allocator.cc:1046] Bin (4194304): \tTotal Chunks: 0, Chunks in use: 0. 0B allocated for chunks. 0B in use in bin. 0B client-requested in use in bin.\n",
      "2023-05-21 18:32:06.793885: I tensorflow/tsl/framework/bfc_allocator.cc:1046] Bin (8388608): \tTotal Chunks: 1, Chunks in use: 1. 9.61MiB allocated for chunks. 9.61MiB in use in bin. 9.61MiB client-requested in use in bin.\n",
      "2023-05-21 18:32:06.793913: I tensorflow/tsl/framework/bfc_allocator.cc:1046] Bin (16777216): \tTotal Chunks: 0, Chunks in use: 0. 0B allocated for chunks. 0B in use in bin. 0B client-requested in use in bin.\n",
      "2023-05-21 18:32:06.793918: I tensorflow/tsl/framework/bfc_allocator.cc:1046] Bin (33554432): \tTotal Chunks: 0, Chunks in use: 0. 0B allocated for chunks. 0B in use in bin. 0B client-requested in use in bin.\n",
      "2023-05-21 18:32:06.793924: I tensorflow/tsl/framework/bfc_allocator.cc:1046] Bin (67108864): \tTotal Chunks: 0, Chunks in use: 0. 0B allocated for chunks. 0B in use in bin. 0B client-requested in use in bin.\n",
      "2023-05-21 18:32:06.793929: I tensorflow/tsl/framework/bfc_allocator.cc:1046] Bin (134217728): \tTotal Chunks: 0, Chunks in use: 0. 0B allocated for chunks. 0B in use in bin. 0B client-requested in use in bin.\n",
      "2023-05-21 18:32:06.793949: I tensorflow/tsl/framework/bfc_allocator.cc:1046] Bin (268435456): \tTotal Chunks: 8, Chunks in use: 5. 15.55GiB allocated for chunks. 10.72GiB in use in bin. 10.72GiB client-requested in use in bin.\n",
      "2023-05-21 18:32:06.793955: I tensorflow/tsl/framework/bfc_allocator.cc:1062] Bin for 2.14GiB was 256.00MiB, Chunk State: \n",
      "2023-05-21 18:32:06.793981: I tensorflow/tsl/framework/bfc_allocator.cc:1068]   Size: 1.12GiB | Requested Size: 2.29MiB | in_use: 0 | bin_num: 20, prev:   Size: 468.8KiB | Requested Size: 468.8KiB | in_use: 1 | bin_num: -1\n",
      "2023-05-21 18:32:06.793999: I tensorflow/tsl/framework/bfc_allocator.cc:1068]   Size: 1.85GiB | Requested Size: 0B | in_use: 0 | bin_num: 20, prev:   Size: 2.14GiB | Requested Size: 2.14GiB | in_use: 1 | bin_num: -1\n",
      "2023-05-21 18:32:06.794006: I tensorflow/tsl/framework/bfc_allocator.cc:1068]   Size: 1.85GiB | Requested Size: 9.61MiB | in_use: 0 | bin_num: 20, prev:   Size: 2.14GiB | Requested Size: 2.14GiB | in_use: 1 | bin_num: -1\n",
      "2023-05-21 18:32:06.794010: I tensorflow/tsl/framework/bfc_allocator.cc:1075] Next region of size 8132231168\n",
      "2023-05-21 18:32:06.794017: I tensorflow/tsl/framework/bfc_allocator.cc:1095] InUse at 7f0a8347b040 of size 2303232256 next 5\n",
      "2023-05-21 18:32:06.794022: I tensorflow/tsl/framework/bfc_allocator.cc:1095] InUse at 7f0b0c903940 of size 2303232256 next 10\n",
      "2023-05-21 18:32:06.794041: I tensorflow/tsl/framework/bfc_allocator.cc:1095] InUse at 7f0b95d8c240 of size 2303232256 next 11\n",
      "2023-05-21 18:32:06.794045: I tensorflow/tsl/framework/bfc_allocator.cc:1095] InUse at 7f0c1f214b40 of size 288000 next 9\n",
      "2023-05-21 18:32:06.794050: I tensorflow/tsl/framework/bfc_allocator.cc:1095] InUse at 7f0c1f25b040 of size 288000 next 1\n",
      "2023-05-21 18:32:06.794055: I tensorflow/tsl/framework/bfc_allocator.cc:1095] InUse at 7f0c1f2a1540 of size 288000 next 7\n",
      "2023-05-21 18:32:06.794060: I tensorflow/tsl/framework/bfc_allocator.cc:1095] InUse at 7f0c1f2e7a40 of size 10080000 next 3\n",
      "2023-05-21 18:32:06.794077: I tensorflow/tsl/framework/bfc_allocator.cc:1095] Free  at 7f0c1fc84940 of size 2400000 next 12\n",
      "2023-05-21 18:32:06.794082: I tensorflow/tsl/framework/bfc_allocator.cc:1095] InUse at 7f0c1fece840 of size 2400000 next 13\n",
      "2023-05-21 18:32:06.794086: I tensorflow/tsl/framework/bfc_allocator.cc:1095] InUse at 7f0c20118740 of size 2400000 next 14\n",
      "2023-05-21 18:32:06.794091: I tensorflow/tsl/framework/bfc_allocator.cc:1095] InUse at 7f0c20362640 of size 2400000 next 15\n",
      "2023-05-21 18:32:06.794095: I tensorflow/tsl/framework/bfc_allocator.cc:1095] InUse at 7f0c205ac540 of size 480000 next 16\n",
      "2023-05-21 18:32:06.794100: I tensorflow/tsl/framework/bfc_allocator.cc:1095] Free  at 7f0c20621840 of size 1201510400 next 18446744073709551615\n",
      "2023-05-21 18:32:06.794105: I tensorflow/tsl/framework/bfc_allocator.cc:1075] Next region of size 4294967296\n",
      "2023-05-21 18:32:06.794109: I tensorflow/tsl/framework/bfc_allocator.cc:1095] InUse at 7f0c6fffd040 of size 2303232256 next 8\n",
      "2023-05-21 18:32:06.794114: I tensorflow/tsl/framework/bfc_allocator.cc:1095] Free  at 7f0cf9485940 of size 1991735040 next 18446744073709551615\n",
      "2023-05-21 18:32:06.794119: I tensorflow/tsl/framework/bfc_allocator.cc:1075] Next region of size 4294967296\n",
      "2023-05-21 18:32:06.794138: I tensorflow/tsl/framework/bfc_allocator.cc:1095] InUse at 7f0d77fff040 of size 2303232256 next 6\n",
      "2023-05-21 18:32:06.794142: I tensorflow/tsl/framework/bfc_allocator.cc:1095] Free  at 7f0e01487940 of size 1991735040 next 18446744073709551615\n",
      "2023-05-21 18:32:06.794159: I tensorflow/tsl/framework/bfc_allocator.cc:1100]      Summary of in-use Chunks by size: \n",
      "2023-05-21 18:32:06.794165: I tensorflow/tsl/framework/bfc_allocator.cc:1103] 3 Chunks of size 288000 totalling 843.8KiB\n",
      "2023-05-21 18:32:06.794171: I tensorflow/tsl/framework/bfc_allocator.cc:1103] 1 Chunks of size 480000 totalling 468.8KiB\n",
      "2023-05-21 18:32:06.794176: I tensorflow/tsl/framework/bfc_allocator.cc:1103] 3 Chunks of size 2400000 totalling 6.87MiB\n",
      "2023-05-21 18:32:06.794181: I tensorflow/tsl/framework/bfc_allocator.cc:1103] 1 Chunks of size 10080000 totalling 9.61MiB\n",
      "2023-05-21 18:32:06.794186: I tensorflow/tsl/framework/bfc_allocator.cc:1103] 5 Chunks of size 2303232256 totalling 10.72GiB\n",
      "2023-05-21 18:32:06.794191: I tensorflow/tsl/framework/bfc_allocator.cc:1107] Sum Total of in-use chunks: 10.74GiB\n",
      "2023-05-21 18:32:06.794196: I tensorflow/tsl/framework/bfc_allocator.cc:1109] Total bytes in pool: 16722165760 memory_limit_: 16722165760 available bytes: 0 curr_region_allocation_bytes_: 17179869184\n",
      "2023-05-21 18:32:06.794204: I tensorflow/tsl/framework/bfc_allocator.cc:1114] Stats: \n",
      "Limit:                     16722165760\n",
      "InUse:                     11534785280\n",
      "MaxInUse:                  11540545280\n",
      "NumAllocs:                          32\n",
      "MaxAllocSize:               2303232256\n",
      "Reserved:                            0\n",
      "PeakReserved:                        0\n",
      "LargestFreeBlock:                    0\n",
      "\n",
      "2023-05-21 18:32:06.794211: W tensorflow/tsl/framework/bfc_allocator.cc:497] ******************************************______***************___________***************___________\n",
      "2023-05-21 18:32:06.794226: W tensorflow/core/framework/op_kernel.cc:1830] OP_REQUIRES failed at stateless_random_ops_v2.cc:64 : RESOURCE_EXHAUSTED: OOM when allocating tensor with shape[23996,23996] and type float on /job:localhost/replica:0/task:0/device:CPU:0 by allocator mklcpu\n"
     ]
    },
    {
     "ename": "ResourceExhaustedError",
     "evalue": "{{function_node __wrapped__StatelessRandomUniformV2_device_/job:localhost/replica:0/task:0/device:CPU:0}} OOM when allocating tensor with shape[23996,23996] and type float on /job:localhost/replica:0/task:0/device:CPU:0 by allocator mklcpu [Op:StatelessRandomUniformV2]",
     "output_type": "error",
     "traceback": [
      "\u001b[0;31m---------------------------------------------------------------------------\u001b[0m",
      "\u001b[0;31mResourceExhaustedError\u001b[0m                    Traceback (most recent call last)",
      "Cell \u001b[0;32mIn[57], line 5\u001b[0m\n\u001b[1;32m      3\u001b[0m model\u001b[39m.\u001b[39madd(layers\u001b[39m.\u001b[39mMaxPooling1D(\u001b[39m5\u001b[39m))\n\u001b[1;32m      4\u001b[0m model\u001b[39m.\u001b[39madd(layers\u001b[39m.\u001b[39mFlatten())\n\u001b[0;32m----> 5\u001b[0m model\u001b[39m.\u001b[39madd(layers\u001b[39m.\u001b[39mDense(\u001b[39m23996\u001b[39m, activation\u001b[39m=\u001b[39m\u001b[39m'\u001b[39m\u001b[39mrelu\u001b[39m\u001b[39m'\u001b[39m))\n\u001b[1;32m      6\u001b[0m model\u001b[39m.\u001b[39madd(layers\u001b[39m.\u001b[39mDense(\u001b[39m3\u001b[39m, activation\u001b[39m=\u001b[39m\u001b[39m'\u001b[39m\u001b[39msoftmax\u001b[39m\u001b[39m'\u001b[39m))\n\u001b[1;32m      7\u001b[0m model\u001b[39m.\u001b[39msummary()\n",
      "File \u001b[0;32m~/anaconda3/envs/FYP/lib/python3.11/site-packages/tensorflow/python/trackable/base.py:205\u001b[0m, in \u001b[0;36mno_automatic_dependency_tracking.<locals>._method_wrapper\u001b[0;34m(self, *args, **kwargs)\u001b[0m\n\u001b[1;32m    203\u001b[0m \u001b[39mself\u001b[39m\u001b[39m.\u001b[39m_self_setattr_tracking \u001b[39m=\u001b[39m \u001b[39mFalse\u001b[39;00m  \u001b[39m# pylint: disable=protected-access\u001b[39;00m\n\u001b[1;32m    204\u001b[0m \u001b[39mtry\u001b[39;00m:\n\u001b[0;32m--> 205\u001b[0m   result \u001b[39m=\u001b[39m method(\u001b[39mself\u001b[39m, \u001b[39m*\u001b[39margs, \u001b[39m*\u001b[39m\u001b[39m*\u001b[39mkwargs)\n\u001b[1;32m    206\u001b[0m \u001b[39mfinally\u001b[39;00m:\n\u001b[1;32m    207\u001b[0m   \u001b[39mself\u001b[39m\u001b[39m.\u001b[39m_self_setattr_tracking \u001b[39m=\u001b[39m previous_value  \u001b[39m# pylint: disable=protected-access\u001b[39;00m\n",
      "File \u001b[0;32m~/anaconda3/envs/FYP/lib/python3.11/site-packages/keras/utils/traceback_utils.py:70\u001b[0m, in \u001b[0;36mfilter_traceback.<locals>.error_handler\u001b[0;34m(*args, **kwargs)\u001b[0m\n\u001b[1;32m     67\u001b[0m     filtered_tb \u001b[39m=\u001b[39m _process_traceback_frames(e\u001b[39m.\u001b[39m__traceback__)\n\u001b[1;32m     68\u001b[0m     \u001b[39m# To get the full stack trace, call:\u001b[39;00m\n\u001b[1;32m     69\u001b[0m     \u001b[39m# `tf.debugging.disable_traceback_filtering()`\u001b[39;00m\n\u001b[0;32m---> 70\u001b[0m     \u001b[39mraise\u001b[39;00m e\u001b[39m.\u001b[39mwith_traceback(filtered_tb) \u001b[39mfrom\u001b[39;00m \u001b[39mNone\u001b[39m\n\u001b[1;32m     71\u001b[0m \u001b[39mfinally\u001b[39;00m:\n\u001b[1;32m     72\u001b[0m     \u001b[39mdel\u001b[39;00m filtered_tb\n",
      "File \u001b[0;32m~/anaconda3/envs/FYP/lib/python3.11/site-packages/keras/backend.py:2101\u001b[0m, in \u001b[0;36mRandomGenerator.random_uniform\u001b[0;34m(self, shape, minval, maxval, dtype, nonce)\u001b[0m\n\u001b[1;32m   2099\u001b[0m     \u001b[39mif\u001b[39;00m nonce:\n\u001b[1;32m   2100\u001b[0m         seed \u001b[39m=\u001b[39m tf\u001b[39m.\u001b[39mrandom\u001b[39m.\u001b[39mexperimental\u001b[39m.\u001b[39mstateless_fold_in(seed, nonce)\n\u001b[0;32m-> 2101\u001b[0m     \u001b[39mreturn\u001b[39;00m tf\u001b[39m.\u001b[39mrandom\u001b[39m.\u001b[39mstateless_uniform(\n\u001b[1;32m   2102\u001b[0m         shape\u001b[39m=\u001b[39mshape,\n\u001b[1;32m   2103\u001b[0m         minval\u001b[39m=\u001b[39mminval,\n\u001b[1;32m   2104\u001b[0m         maxval\u001b[39m=\u001b[39mmaxval,\n\u001b[1;32m   2105\u001b[0m         dtype\u001b[39m=\u001b[39mdtype,\n\u001b[1;32m   2106\u001b[0m         seed\u001b[39m=\u001b[39mseed,\n\u001b[1;32m   2107\u001b[0m     )\n\u001b[1;32m   2108\u001b[0m \u001b[39mreturn\u001b[39;00m tf\u001b[39m.\u001b[39mrandom\u001b[39m.\u001b[39muniform(\n\u001b[1;32m   2109\u001b[0m     shape\u001b[39m=\u001b[39mshape,\n\u001b[1;32m   2110\u001b[0m     minval\u001b[39m=\u001b[39mminval,\n\u001b[0;32m   (...)\u001b[0m\n\u001b[1;32m   2113\u001b[0m     seed\u001b[39m=\u001b[39m\u001b[39mself\u001b[39m\u001b[39m.\u001b[39mmake_legacy_seed(),\n\u001b[1;32m   2114\u001b[0m )\n",
      "\u001b[0;31mResourceExhaustedError\u001b[0m: {{function_node __wrapped__StatelessRandomUniformV2_device_/job:localhost/replica:0/task:0/device:CPU:0}} OOM when allocating tensor with shape[23996,23996] and type float on /job:localhost/replica:0/task:0/device:CPU:0 by allocator mklcpu [Op:StatelessRandomUniformV2]"
     ]
    }
   ],
   "source": [
    "model = models.Sequential()\n",
    "model.add(layers.Conv1D(4, 2, activation='relu', input_shape=(30000, 4)))\n",
    "model.add(layers.MaxPooling1D(5))\n",
    "model.add(layers.Flatten())\n",
    "model.add(layers.Dense(23996, activation='relu'))\n",
    "model.add(layers.Dense(3, activation='softmax'))\n",
    "model.summary()"
   ]
  },
  {
   "cell_type": "code",
   "execution_count": null,
   "metadata": {},
   "outputs": [],
   "source": [
    "model.compile(optimizer='adam',loss=tf.keras.losses.SparseCategoricalCrossentropy(from_logits=True),metrics=['accuracy'])"
   ]
  },
  {
   "cell_type": "code",
   "execution_count": null,
   "metadata": {},
   "outputs": [
    {
     "name": "stdout",
     "output_type": "stream",
     "text": [
      "Epoch 1/10\n"
     ]
    },
    {
     "name": "stderr",
     "output_type": "stream",
     "text": [
      "2023-05-21 18:28:42.591125: W tensorflow/core/framework/op_kernel.cc:1830] OP_REQUIRES failed at sparse_xent_op.cc:102 : INVALID_ARGUMENT: Received a label value of 3 which is outside the valid range of [0, 3).  Label values: 2 2 3 1 3\n",
      "2023-05-21 18:28:42.591167: I tensorflow/core/common_runtime/executor.cc:1197] [/job:localhost/replica:0/task:0/device:CPU:0] (DEBUG INFO) Executor start aborting (this does not indicate an error and you can ignore this message): INVALID_ARGUMENT: Received a label value of 3 which is outside the valid range of [0, 3).  Label values: 2 2 3 1 3\n",
      "\t [[{{node sparse_categorical_crossentropy/SparseSoftmaxCrossEntropyWithLogits/SparseSoftmaxCrossEntropyWithLogits}}]]\n"
     ]
    },
    {
     "ename": "InvalidArgumentError",
     "evalue": "Graph execution error:\n\nDetected at node 'sparse_categorical_crossentropy/SparseSoftmaxCrossEntropyWithLogits/SparseSoftmaxCrossEntropyWithLogits' defined at (most recent call last):\n    File \"<frozen runpy>\", line 198, in _run_module_as_main\n    File \"<frozen runpy>\", line 88, in _run_code\n    File \"/home/jayanaka_98/anaconda3/envs/FYP/lib/python3.11/site-packages/ipykernel_launcher.py\", line 17, in <module>\n      app.launch_new_instance()\n    File \"/home/jayanaka_98/anaconda3/envs/FYP/lib/python3.11/site-packages/traitlets/config/application.py\", line 992, in launch_instance\n      app.start()\n    File \"/home/jayanaka_98/anaconda3/envs/FYP/lib/python3.11/site-packages/ipykernel/kernelapp.py\", line 711, in start\n      self.io_loop.start()\n    File \"/home/jayanaka_98/anaconda3/envs/FYP/lib/python3.11/site-packages/tornado/platform/asyncio.py\", line 215, in start\n      self.asyncio_loop.run_forever()\n    File \"/home/jayanaka_98/anaconda3/envs/FYP/lib/python3.11/asyncio/base_events.py\", line 607, in run_forever\n      self._run_once()\n    File \"/home/jayanaka_98/anaconda3/envs/FYP/lib/python3.11/asyncio/base_events.py\", line 1922, in _run_once\n      handle._run()\n    File \"/home/jayanaka_98/anaconda3/envs/FYP/lib/python3.11/asyncio/events.py\", line 80, in _run\n      self._context.run(self._callback, *self._args)\n    File \"/home/jayanaka_98/anaconda3/envs/FYP/lib/python3.11/site-packages/ipykernel/kernelbase.py\", line 510, in dispatch_queue\n      await self.process_one()\n    File \"/home/jayanaka_98/anaconda3/envs/FYP/lib/python3.11/site-packages/ipykernel/kernelbase.py\", line 499, in process_one\n      await dispatch(*args)\n    File \"/home/jayanaka_98/anaconda3/envs/FYP/lib/python3.11/site-packages/ipykernel/kernelbase.py\", line 406, in dispatch_shell\n      await result\n    File \"/home/jayanaka_98/anaconda3/envs/FYP/lib/python3.11/site-packages/ipykernel/kernelbase.py\", line 729, in execute_request\n      reply_content = await reply_content\n    File \"/home/jayanaka_98/anaconda3/envs/FYP/lib/python3.11/site-packages/ipykernel/ipkernel.py\", line 411, in do_execute\n      res = shell.run_cell(\n    File \"/home/jayanaka_98/anaconda3/envs/FYP/lib/python3.11/site-packages/ipykernel/zmqshell.py\", line 531, in run_cell\n      return super().run_cell(*args, **kwargs)\n    File \"/home/jayanaka_98/anaconda3/envs/FYP/lib/python3.11/site-packages/IPython/core/interactiveshell.py\", line 3006, in run_cell\n      result = self._run_cell(\n    File \"/home/jayanaka_98/anaconda3/envs/FYP/lib/python3.11/site-packages/IPython/core/interactiveshell.py\", line 3061, in _run_cell\n      result = runner(coro)\n    File \"/home/jayanaka_98/anaconda3/envs/FYP/lib/python3.11/site-packages/IPython/core/async_helpers.py\", line 129, in _pseudo_sync_runner\n      coro.send(None)\n    File \"/home/jayanaka_98/anaconda3/envs/FYP/lib/python3.11/site-packages/IPython/core/interactiveshell.py\", line 3266, in run_cell_async\n      has_raised = await self.run_ast_nodes(code_ast.body, cell_name,\n    File \"/home/jayanaka_98/anaconda3/envs/FYP/lib/python3.11/site-packages/IPython/core/interactiveshell.py\", line 3445, in run_ast_nodes\n      if await self.run_code(code, result, async_=asy):\n    File \"/home/jayanaka_98/anaconda3/envs/FYP/lib/python3.11/site-packages/IPython/core/interactiveshell.py\", line 3505, in run_code\n      exec(code_obj, self.user_global_ns, self.user_ns)\n    File \"/tmp/ipykernel_7726/3016713901.py\", line 1, in <module>\n      model.fit(x_train, y_train, epochs=10, batch_size=5, validation_data=(x_test, y_test))\n    File \"/home/jayanaka_98/anaconda3/envs/FYP/lib/python3.11/site-packages/keras/utils/traceback_utils.py\", line 65, in error_handler\n      return fn(*args, **kwargs)\n    File \"/home/jayanaka_98/anaconda3/envs/FYP/lib/python3.11/site-packages/keras/engine/training.py\", line 1685, in fit\n      tmp_logs = self.train_function(iterator)\n    File \"/home/jayanaka_98/anaconda3/envs/FYP/lib/python3.11/site-packages/keras/engine/training.py\", line 1284, in train_function\n      return step_function(self, iterator)\n    File \"/home/jayanaka_98/anaconda3/envs/FYP/lib/python3.11/site-packages/keras/engine/training.py\", line 1268, in step_function\n      outputs = model.distribute_strategy.run(run_step, args=(data,))\n    File \"/home/jayanaka_98/anaconda3/envs/FYP/lib/python3.11/site-packages/keras/engine/training.py\", line 1249, in run_step\n      outputs = model.train_step(data)\n    File \"/home/jayanaka_98/anaconda3/envs/FYP/lib/python3.11/site-packages/keras/engine/training.py\", line 1051, in train_step\n      loss = self.compute_loss(x, y, y_pred, sample_weight)\n    File \"/home/jayanaka_98/anaconda3/envs/FYP/lib/python3.11/site-packages/keras/engine/training.py\", line 1109, in compute_loss\n      return self.compiled_loss(\n    File \"/home/jayanaka_98/anaconda3/envs/FYP/lib/python3.11/site-packages/keras/engine/compile_utils.py\", line 265, in __call__\n      loss_value = loss_obj(y_t, y_p, sample_weight=sw)\n    File \"/home/jayanaka_98/anaconda3/envs/FYP/lib/python3.11/site-packages/keras/losses.py\", line 142, in __call__\n      losses = call_fn(y_true, y_pred)\n    File \"/home/jayanaka_98/anaconda3/envs/FYP/lib/python3.11/site-packages/keras/losses.py\", line 268, in call\n      return ag_fn(y_true, y_pred, **self._fn_kwargs)\n    File \"/home/jayanaka_98/anaconda3/envs/FYP/lib/python3.11/site-packages/keras/losses.py\", line 2078, in sparse_categorical_crossentropy\n      return backend.sparse_categorical_crossentropy(\n    File \"/home/jayanaka_98/anaconda3/envs/FYP/lib/python3.11/site-packages/keras/backend.py\", line 5660, in sparse_categorical_crossentropy\n      res = tf.nn.sparse_softmax_cross_entropy_with_logits(\nNode: 'sparse_categorical_crossentropy/SparseSoftmaxCrossEntropyWithLogits/SparseSoftmaxCrossEntropyWithLogits'\nReceived a label value of 3 which is outside the valid range of [0, 3).  Label values: 2 2 3 1 3\n\t [[{{node sparse_categorical_crossentropy/SparseSoftmaxCrossEntropyWithLogits/SparseSoftmaxCrossEntropyWithLogits}}]] [Op:__inference_train_function_2489]",
     "output_type": "error",
     "traceback": [
      "\u001b[0;31m---------------------------------------------------------------------------\u001b[0m",
      "\u001b[0;31mInvalidArgumentError\u001b[0m                      Traceback (most recent call last)",
      "Cell \u001b[0;32mIn[37], line 1\u001b[0m\n\u001b[0;32m----> 1\u001b[0m model\u001b[39m.\u001b[39mfit(x_train, y_train, epochs\u001b[39m=\u001b[39m\u001b[39m10\u001b[39m, batch_size\u001b[39m=\u001b[39m\u001b[39m5\u001b[39m, validation_data\u001b[39m=\u001b[39m(x_test, y_test))\n",
      "File \u001b[0;32m~/anaconda3/envs/FYP/lib/python3.11/site-packages/keras/utils/traceback_utils.py:70\u001b[0m, in \u001b[0;36mfilter_traceback.<locals>.error_handler\u001b[0;34m(*args, **kwargs)\u001b[0m\n\u001b[1;32m     67\u001b[0m     filtered_tb \u001b[39m=\u001b[39m _process_traceback_frames(e\u001b[39m.\u001b[39m__traceback__)\n\u001b[1;32m     68\u001b[0m     \u001b[39m# To get the full stack trace, call:\u001b[39;00m\n\u001b[1;32m     69\u001b[0m     \u001b[39m# `tf.debugging.disable_traceback_filtering()`\u001b[39;00m\n\u001b[0;32m---> 70\u001b[0m     \u001b[39mraise\u001b[39;00m e\u001b[39m.\u001b[39mwith_traceback(filtered_tb) \u001b[39mfrom\u001b[39;00m \u001b[39mNone\u001b[39m\n\u001b[1;32m     71\u001b[0m \u001b[39mfinally\u001b[39;00m:\n\u001b[1;32m     72\u001b[0m     \u001b[39mdel\u001b[39;00m filtered_tb\n",
      "File \u001b[0;32m~/anaconda3/envs/FYP/lib/python3.11/site-packages/tensorflow/python/eager/execute.py:52\u001b[0m, in \u001b[0;36mquick_execute\u001b[0;34m(op_name, num_outputs, inputs, attrs, ctx, name)\u001b[0m\n\u001b[1;32m     50\u001b[0m \u001b[39mtry\u001b[39;00m:\n\u001b[1;32m     51\u001b[0m   ctx\u001b[39m.\u001b[39mensure_initialized()\n\u001b[0;32m---> 52\u001b[0m   tensors \u001b[39m=\u001b[39m pywrap_tfe\u001b[39m.\u001b[39mTFE_Py_Execute(ctx\u001b[39m.\u001b[39m_handle, device_name, op_name,\n\u001b[1;32m     53\u001b[0m                                       inputs, attrs, num_outputs)\n\u001b[1;32m     54\u001b[0m \u001b[39mexcept\u001b[39;00m core\u001b[39m.\u001b[39m_NotOkStatusException \u001b[39mas\u001b[39;00m e:\n\u001b[1;32m     55\u001b[0m   \u001b[39mif\u001b[39;00m name \u001b[39mis\u001b[39;00m \u001b[39mnot\u001b[39;00m \u001b[39mNone\u001b[39;00m:\n",
      "\u001b[0;31mInvalidArgumentError\u001b[0m: Graph execution error:\n\nDetected at node 'sparse_categorical_crossentropy/SparseSoftmaxCrossEntropyWithLogits/SparseSoftmaxCrossEntropyWithLogits' defined at (most recent call last):\n    File \"<frozen runpy>\", line 198, in _run_module_as_main\n    File \"<frozen runpy>\", line 88, in _run_code\n    File \"/home/jayanaka_98/anaconda3/envs/FYP/lib/python3.11/site-packages/ipykernel_launcher.py\", line 17, in <module>\n      app.launch_new_instance()\n    File \"/home/jayanaka_98/anaconda3/envs/FYP/lib/python3.11/site-packages/traitlets/config/application.py\", line 992, in launch_instance\n      app.start()\n    File \"/home/jayanaka_98/anaconda3/envs/FYP/lib/python3.11/site-packages/ipykernel/kernelapp.py\", line 711, in start\n      self.io_loop.start()\n    File \"/home/jayanaka_98/anaconda3/envs/FYP/lib/python3.11/site-packages/tornado/platform/asyncio.py\", line 215, in start\n      self.asyncio_loop.run_forever()\n    File \"/home/jayanaka_98/anaconda3/envs/FYP/lib/python3.11/asyncio/base_events.py\", line 607, in run_forever\n      self._run_once()\n    File \"/home/jayanaka_98/anaconda3/envs/FYP/lib/python3.11/asyncio/base_events.py\", line 1922, in _run_once\n      handle._run()\n    File \"/home/jayanaka_98/anaconda3/envs/FYP/lib/python3.11/asyncio/events.py\", line 80, in _run\n      self._context.run(self._callback, *self._args)\n    File \"/home/jayanaka_98/anaconda3/envs/FYP/lib/python3.11/site-packages/ipykernel/kernelbase.py\", line 510, in dispatch_queue\n      await self.process_one()\n    File \"/home/jayanaka_98/anaconda3/envs/FYP/lib/python3.11/site-packages/ipykernel/kernelbase.py\", line 499, in process_one\n      await dispatch(*args)\n    File \"/home/jayanaka_98/anaconda3/envs/FYP/lib/python3.11/site-packages/ipykernel/kernelbase.py\", line 406, in dispatch_shell\n      await result\n    File \"/home/jayanaka_98/anaconda3/envs/FYP/lib/python3.11/site-packages/ipykernel/kernelbase.py\", line 729, in execute_request\n      reply_content = await reply_content\n    File \"/home/jayanaka_98/anaconda3/envs/FYP/lib/python3.11/site-packages/ipykernel/ipkernel.py\", line 411, in do_execute\n      res = shell.run_cell(\n    File \"/home/jayanaka_98/anaconda3/envs/FYP/lib/python3.11/site-packages/ipykernel/zmqshell.py\", line 531, in run_cell\n      return super().run_cell(*args, **kwargs)\n    File \"/home/jayanaka_98/anaconda3/envs/FYP/lib/python3.11/site-packages/IPython/core/interactiveshell.py\", line 3006, in run_cell\n      result = self._run_cell(\n    File \"/home/jayanaka_98/anaconda3/envs/FYP/lib/python3.11/site-packages/IPython/core/interactiveshell.py\", line 3061, in _run_cell\n      result = runner(coro)\n    File \"/home/jayanaka_98/anaconda3/envs/FYP/lib/python3.11/site-packages/IPython/core/async_helpers.py\", line 129, in _pseudo_sync_runner\n      coro.send(None)\n    File \"/home/jayanaka_98/anaconda3/envs/FYP/lib/python3.11/site-packages/IPython/core/interactiveshell.py\", line 3266, in run_cell_async\n      has_raised = await self.run_ast_nodes(code_ast.body, cell_name,\n    File \"/home/jayanaka_98/anaconda3/envs/FYP/lib/python3.11/site-packages/IPython/core/interactiveshell.py\", line 3445, in run_ast_nodes\n      if await self.run_code(code, result, async_=asy):\n    File \"/home/jayanaka_98/anaconda3/envs/FYP/lib/python3.11/site-packages/IPython/core/interactiveshell.py\", line 3505, in run_code\n      exec(code_obj, self.user_global_ns, self.user_ns)\n    File \"/tmp/ipykernel_7726/3016713901.py\", line 1, in <module>\n      model.fit(x_train, y_train, epochs=10, batch_size=5, validation_data=(x_test, y_test))\n    File \"/home/jayanaka_98/anaconda3/envs/FYP/lib/python3.11/site-packages/keras/utils/traceback_utils.py\", line 65, in error_handler\n      return fn(*args, **kwargs)\n    File \"/home/jayanaka_98/anaconda3/envs/FYP/lib/python3.11/site-packages/keras/engine/training.py\", line 1685, in fit\n      tmp_logs = self.train_function(iterator)\n    File \"/home/jayanaka_98/anaconda3/envs/FYP/lib/python3.11/site-packages/keras/engine/training.py\", line 1284, in train_function\n      return step_function(self, iterator)\n    File \"/home/jayanaka_98/anaconda3/envs/FYP/lib/python3.11/site-packages/keras/engine/training.py\", line 1268, in step_function\n      outputs = model.distribute_strategy.run(run_step, args=(data,))\n    File \"/home/jayanaka_98/anaconda3/envs/FYP/lib/python3.11/site-packages/keras/engine/training.py\", line 1249, in run_step\n      outputs = model.train_step(data)\n    File \"/home/jayanaka_98/anaconda3/envs/FYP/lib/python3.11/site-packages/keras/engine/training.py\", line 1051, in train_step\n      loss = self.compute_loss(x, y, y_pred, sample_weight)\n    File \"/home/jayanaka_98/anaconda3/envs/FYP/lib/python3.11/site-packages/keras/engine/training.py\", line 1109, in compute_loss\n      return self.compiled_loss(\n    File \"/home/jayanaka_98/anaconda3/envs/FYP/lib/python3.11/site-packages/keras/engine/compile_utils.py\", line 265, in __call__\n      loss_value = loss_obj(y_t, y_p, sample_weight=sw)\n    File \"/home/jayanaka_98/anaconda3/envs/FYP/lib/python3.11/site-packages/keras/losses.py\", line 142, in __call__\n      losses = call_fn(y_true, y_pred)\n    File \"/home/jayanaka_98/anaconda3/envs/FYP/lib/python3.11/site-packages/keras/losses.py\", line 268, in call\n      return ag_fn(y_true, y_pred, **self._fn_kwargs)\n    File \"/home/jayanaka_98/anaconda3/envs/FYP/lib/python3.11/site-packages/keras/losses.py\", line 2078, in sparse_categorical_crossentropy\n      return backend.sparse_categorical_crossentropy(\n    File \"/home/jayanaka_98/anaconda3/envs/FYP/lib/python3.11/site-packages/keras/backend.py\", line 5660, in sparse_categorical_crossentropy\n      res = tf.nn.sparse_softmax_cross_entropy_with_logits(\nNode: 'sparse_categorical_crossentropy/SparseSoftmaxCrossEntropyWithLogits/SparseSoftmaxCrossEntropyWithLogits'\nReceived a label value of 3 which is outside the valid range of [0, 3).  Label values: 2 2 3 1 3\n\t [[{{node sparse_categorical_crossentropy/SparseSoftmaxCrossEntropyWithLogits/SparseSoftmaxCrossEntropyWithLogits}}]] [Op:__inference_train_function_2489]"
     ]
    }
   ],
   "source": [
    "model.fit(x_train, y_train, epochs=10, batch_size=5, validation_data=(x_test, y_test))"
   ]
  },
  {
   "cell_type": "code",
   "execution_count": null,
   "metadata": {},
   "outputs": [],
   "source": [
    "# Evaluate the model\n",
    "loss, accuracy = model.evaluate(x_test, y_test)\n",
    "print(f'Test loss: {loss}')\n",
    "print(f'Test accuracy: {accuracy}')"
   ]
  }
 ],
 "metadata": {
  "kernelspec": {
   "display_name": "FYPai",
   "language": "python",
   "name": "python3"
  },
  "language_info": {
   "codemirror_mode": {
    "name": "ipython",
    "version": 3
   },
   "file_extension": ".py",
   "mimetype": "text/x-python",
   "name": "python",
   "nbconvert_exporter": "python",
   "pygments_lexer": "ipython3",
   "version": "3.11.2"
  },
  "orig_nbformat": 4
 },
 "nbformat": 4,
 "nbformat_minor": 2
}
