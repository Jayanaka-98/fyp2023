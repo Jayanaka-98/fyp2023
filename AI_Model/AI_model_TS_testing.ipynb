{
 "cells": [
  {
   "cell_type": "code",
   "execution_count": 3,
   "id": "320a5fca-dad8-4ea1-afa0-b8e51e014397",
   "metadata": {},
   "outputs": [],
   "source": [
    "import numpy as np\n",
    "import pandas as pd\n",
    "import matplotlib.pyplot as plt\n",
    "import warnings\n",
    "warnings.filterwarnings('ignore')\n",
    "import pandas as pd\n",
    "from sklearn.model_selection import train_test_split\n",
    "from sklearn.ensemble import RandomForestClassifier\n",
    "from sklearn.metrics import accuracy_score\n",
    "import os\n",
    "from sklearn.metrics import confusion_matrix\n",
    "import numpy as np\n",
    "import itertools\n",
    "import joblib\n",
    "import pickle"
   ]
  },
  {
   "cell_type": "code",
   "execution_count": 5,
   "id": "579f8d1b-f550-42c4-b1f5-1fbd64f528c4",
   "metadata": {},
   "outputs": [],
   "source": [
    "target_1 = []\n",
    "target_2 = []\n",
    "target_3 = []\n",
    "\n",
    "surface_1 = []\n",
    "surface_2 = []\n",
    "surface_3 = []\n",
    "surfaces = []\n"
   ]
  },
  {
   "attachments": {},
   "cell_type": "markdown",
   "id": "eac83e56-d045-4f4f-b61b-4644cf14eb2a",
   "metadata": {},
   "source": [
    "# Load the data from CSV files for each surface"
   ]
  },
  {
   "cell_type": "code",
   "execution_count": 14,
   "id": "b432217d-faa0-4f3a-9646-bffbcfb71e43",
   "metadata": {},
   "outputs": [],
   "source": [
    "for i in range(1, 1201):  #107\n",
    "    filename = '/home/jayanaka_98/Documents/AI Model Data/Processed Data/S1/S1_' + str(i) +'.csv'\n",
    "    df = pd.read_csv(filename, header=0)\n",
    "    surface_1.append(df.values)\n",
    "    target_1.append('Surface 1')"
   ]
  },
  {
   "cell_type": "code",
   "execution_count": 17,
   "id": "4439cb3e-dee8-495e-ae02-34709d7de254",
   "metadata": {},
   "outputs": [],
   "source": [
    "for i in range(1, 1201):  #107\n",
    "    filename = '/home/jayanaka_98/Documents/AI Model Data/Processed Data/S2/S2_' + str(i) +'.csv'\n",
    "    df = pd.read_csv(filename, header=0)\n",
    "    surface_2.append(df.values)\n",
    "    target_2.append('Surface 2')"
   ]
  },
  {
   "cell_type": "code",
   "execution_count": 18,
   "id": "27c1bae1-2cc2-40b6-a259-4f56d67b0fb3",
   "metadata": {},
   "outputs": [],
   "source": [
    "for i in range(1, 1201):  #107\n",
    "    filename = '/home/jayanaka_98/Documents/AI Model Data/Processed Data/S3/S3_' + str(i) +'.csv'\n",
    "    df = pd.read_csv(filename, header=0)\n",
    "    surface_3.append(df.values)\n",
    "    target_3.append('Surface 3')"
   ]
  },
  {
   "cell_type": "code",
   "execution_count": 19,
   "id": "4891922c-bfef-4f9c-90f2-cc4651f1d9d9",
   "metadata": {},
   "outputs": [],
   "source": [
    "#df.keys()\n",
    "#target"
   ]
  },
  {
   "cell_type": "code",
   "execution_count": 20,
   "id": "1f7108c6-4605-496d-8613-355c14743ccc",
   "metadata": {},
   "outputs": [],
   "source": [
    "#surfaces.isnull().sum()\n",
    "#np.isnan(df).sum()"
   ]
  },
  {
   "cell_type": "code",
   "execution_count": 21,
   "id": "94ae6982-a0fb-4dbb-9575-9f2872cf96a3",
   "metadata": {},
   "outputs": [],
   "source": [
    "# extract the time series data and the corresponding labels\n",
    "X1 = np.array(surface_1)\n",
    "X1 = X1.reshape(X1.shape[0], -1)\n",
    "\n",
    "X2 = np.array(surface_2)\n",
    "X2 = X2.reshape(X2.shape[0], -1)\n",
    "\n",
    "X3 = np.array(surface_3)\n",
    "X3 = X3.reshape(X3.shape[0], -1)\n",
    "\n",
    "y1 = np.array(target_1)\n",
    "y2 = np.array(target_2)\n",
    "y3 = np.array(target_3)\n",
    "#y = y.reshape(y.shape[0], -1)"
   ]
  },
  {
   "cell_type": "code",
   "execution_count": 22,
   "id": "06d9450a-8b50-4f44-9a35-5c982964b777",
   "metadata": {},
   "outputs": [],
   "source": [
    "#pd.Series(y).isnull().sum()"
   ]
  },
  {
   "cell_type": "code",
   "execution_count": 23,
   "id": "e7759c04-de87-4b86-b0e9-a13c6b53ff3c",
   "metadata": {},
   "outputs": [],
   "source": [
    "#X"
   ]
  },
  {
   "cell_type": "code",
   "execution_count": 24,
   "id": "ca248bd8-74a7-454c-ab8a-9ffd6f21a0e6",
   "metadata": {},
   "outputs": [],
   "source": [
    "# split the data into training and testing sets\n",
    "X1_train, X1_test, y1_train, y1_test = train_test_split(X1, y1, test_size=0.2, random_state=20)\n",
    "X2_train, X2_test, y2_train, y2_test = train_test_split(X2, y2, test_size=0.2, random_state=20)\n",
    "X3_train, X3_test, y3_train, y3_test = train_test_split(X3, y3, test_size=0.2, random_state=20)\n",
    "\n",
    "X_test = np.concatenate((X1_test,X2_test,X3_test), axis=0)\n",
    "X_train = np.concatenate((X1_train,X2_train,X3_train), axis=0)\n",
    "y_test = np.concatenate((y1_test,y2_test,y3_test), axis=0)\n",
    "y_train = np.concatenate((y1_train,y2_train,y3_train), axis=0)\n",
    "#X\n",
    "#X_train"
   ]
  },
  {
   "cell_type": "code",
   "execution_count": 34,
   "id": "8e006842-4a76-4d94-b591-b9a472aff2b6",
   "metadata": {},
   "outputs": [
    {
     "data": {
      "text/plain": [
       "2881"
      ]
     },
     "execution_count": 34,
     "metadata": {},
     "output_type": "execute_result"
    }
   ],
   "source": [
    "len(X_train)"
   ]
  },
  {
   "cell_type": "code",
   "execution_count": 26,
   "id": "7ff2501f-4915-4eb5-9f7b-a9e9b9356b78",
   "metadata": {},
   "outputs": [
    {
     "data": {
      "text/plain": [
       "180000"
      ]
     },
     "execution_count": 26,
     "metadata": {},
     "output_type": "execute_result"
    }
   ],
   "source": [
    "len(X1_train[1])"
   ]
  },
  {
   "cell_type": "code",
   "execution_count": 27,
   "id": "c29cbba5-3035-4e27-b426-8df953047afd",
   "metadata": {},
   "outputs": [],
   "source": [
    "# initialize and fit the TSF classifier\n",
    "model = RandomForestClassifier(n_estimators=5000, random_state=42)"
   ]
  },
  {
   "cell_type": "code",
   "execution_count": 33,
   "id": "b7e15eb4-c497-4539-b11a-8e9a91ec2c49",
   "metadata": {},
   "outputs": [
    {
     "data": {
      "text/html": [
       "<style>#sk-container-id-1 {color: black;background-color: white;}#sk-container-id-1 pre{padding: 0;}#sk-container-id-1 div.sk-toggleable {background-color: white;}#sk-container-id-1 label.sk-toggleable__label {cursor: pointer;display: block;width: 100%;margin-bottom: 0;padding: 0.3em;box-sizing: border-box;text-align: center;}#sk-container-id-1 label.sk-toggleable__label-arrow:before {content: \"▸\";float: left;margin-right: 0.25em;color: #696969;}#sk-container-id-1 label.sk-toggleable__label-arrow:hover:before {color: black;}#sk-container-id-1 div.sk-estimator:hover label.sk-toggleable__label-arrow:before {color: black;}#sk-container-id-1 div.sk-toggleable__content {max-height: 0;max-width: 0;overflow: hidden;text-align: left;background-color: #f0f8ff;}#sk-container-id-1 div.sk-toggleable__content pre {margin: 0.2em;color: black;border-radius: 0.25em;background-color: #f0f8ff;}#sk-container-id-1 input.sk-toggleable__control:checked~div.sk-toggleable__content {max-height: 200px;max-width: 100%;overflow: auto;}#sk-container-id-1 input.sk-toggleable__control:checked~label.sk-toggleable__label-arrow:before {content: \"▾\";}#sk-container-id-1 div.sk-estimator input.sk-toggleable__control:checked~label.sk-toggleable__label {background-color: #d4ebff;}#sk-container-id-1 div.sk-label input.sk-toggleable__control:checked~label.sk-toggleable__label {background-color: #d4ebff;}#sk-container-id-1 input.sk-hidden--visually {border: 0;clip: rect(1px 1px 1px 1px);clip: rect(1px, 1px, 1px, 1px);height: 1px;margin: -1px;overflow: hidden;padding: 0;position: absolute;width: 1px;}#sk-container-id-1 div.sk-estimator {font-family: monospace;background-color: #f0f8ff;border: 1px dotted black;border-radius: 0.25em;box-sizing: border-box;margin-bottom: 0.5em;}#sk-container-id-1 div.sk-estimator:hover {background-color: #d4ebff;}#sk-container-id-1 div.sk-parallel-item::after {content: \"\";width: 100%;border-bottom: 1px solid gray;flex-grow: 1;}#sk-container-id-1 div.sk-label:hover label.sk-toggleable__label {background-color: #d4ebff;}#sk-container-id-1 div.sk-serial::before {content: \"\";position: absolute;border-left: 1px solid gray;box-sizing: border-box;top: 0;bottom: 0;left: 50%;z-index: 0;}#sk-container-id-1 div.sk-serial {display: flex;flex-direction: column;align-items: center;background-color: white;padding-right: 0.2em;padding-left: 0.2em;position: relative;}#sk-container-id-1 div.sk-item {position: relative;z-index: 1;}#sk-container-id-1 div.sk-parallel {display: flex;align-items: stretch;justify-content: center;background-color: white;position: relative;}#sk-container-id-1 div.sk-item::before, #sk-container-id-1 div.sk-parallel-item::before {content: \"\";position: absolute;border-left: 1px solid gray;box-sizing: border-box;top: 0;bottom: 0;left: 50%;z-index: -1;}#sk-container-id-1 div.sk-parallel-item {display: flex;flex-direction: column;z-index: 1;position: relative;background-color: white;}#sk-container-id-1 div.sk-parallel-item:first-child::after {align-self: flex-end;width: 50%;}#sk-container-id-1 div.sk-parallel-item:last-child::after {align-self: flex-start;width: 50%;}#sk-container-id-1 div.sk-parallel-item:only-child::after {width: 0;}#sk-container-id-1 div.sk-dashed-wrapped {border: 1px dashed gray;margin: 0 0.4em 0.5em 0.4em;box-sizing: border-box;padding-bottom: 0.4em;background-color: white;}#sk-container-id-1 div.sk-label label {font-family: monospace;font-weight: bold;display: inline-block;line-height: 1.2em;}#sk-container-id-1 div.sk-label-container {text-align: center;}#sk-container-id-1 div.sk-container {/* jupyter's `normalize.less` sets `[hidden] { display: none; }` but bootstrap.min.css set `[hidden] { display: none !important; }` so we also need the `!important` here to be able to override the default hidden behavior on the sphinx rendered scikit-learn.org. See: https://github.com/scikit-learn/scikit-learn/issues/21755 */display: inline-block !important;position: relative;}#sk-container-id-1 div.sk-text-repr-fallback {display: none;}</style><div id=\"sk-container-id-1\" class=\"sk-top-container\"><div class=\"sk-text-repr-fallback\"><pre>RandomForestClassifier(n_estimators=5000, random_state=42)</pre><b>In a Jupyter environment, please rerun this cell to show the HTML representation or trust the notebook. <br />On GitHub, the HTML representation is unable to render, please try loading this page with nbviewer.org.</b></div><div class=\"sk-container\" hidden><div class=\"sk-item\"><div class=\"sk-estimator sk-toggleable\"><input class=\"sk-toggleable__control sk-hidden--visually\" id=\"sk-estimator-id-1\" type=\"checkbox\" checked><label for=\"sk-estimator-id-1\" class=\"sk-toggleable__label sk-toggleable__label-arrow\">RandomForestClassifier</label><div class=\"sk-toggleable__content\"><pre>RandomForestClassifier(n_estimators=5000, random_state=42)</pre></div></div></div></div></div>"
      ],
      "text/plain": [
       "RandomForestClassifier(n_estimators=5000, random_state=42)"
      ]
     },
     "execution_count": 33,
     "metadata": {},
     "output_type": "execute_result"
    }
   ],
   "source": [
    "model.fit(X_train, y_train)"
   ]
  },
  {
   "cell_type": "code",
   "execution_count": 35,
   "id": "81c663e5-088e-4466-b53e-dee1037d75e9",
   "metadata": {},
   "outputs": [],
   "source": [
    "#model.save('Object_Classification_Model')\n",
    "#model = tf.keras.models.load_model('Object_Classification_Model')"
   ]
  },
  {
   "cell_type": "code",
   "execution_count": 36,
   "id": "da12fba0-d0be-49a0-8f9d-8e5e68cd44af",
   "metadata": {},
   "outputs": [
    {
     "data": {
      "text/plain": [
       "0.9181692094313454"
      ]
     },
     "execution_count": 36,
     "metadata": {},
     "output_type": "execute_result"
    }
   ],
   "source": [
    "# predict the class labels of new data\n",
    "y_pred = model.predict(X_test)\n",
    "accuracy = accuracy_score(y_test, y_pred)\n",
    "accuracy\n"
   ]
  },
  {
   "cell_type": "code",
   "execution_count": 37,
   "id": "26289dc8-53f5-4521-8646-7599fc2afc1b",
   "metadata": {},
   "outputs": [
    {
     "name": "stdout",
     "output_type": "stream",
     "text": [
      "[[225   4  12]\n",
      " [  8 217  15]\n",
      " [ 19   1 220]]\n",
      "Confusion matrix, without normalisation\n",
      "[[225   4  12]\n",
      " [  8 217  15]\n",
      " [ 19   1 220]]\n"
     ]
    },
    {
     "data": {
      "image/png": "[encoded data removed]",
      "text/plain": [
       "<Figure size 640x480 with 2 Axes>"
      ]
     },
     "metadata": {},
     "output_type": "display_data"
    }
   ],
   "source": [
    "#plot confusion matrix\n",
    "def plot_confusion_matrix(cm, classes, normalize=False, \n",
    "                          title='Confusion matrix',\n",
    "                          cmap=plt.cm.Blues):\n",
    "  if normalize:\n",
    "    cm = cm.astype('float') / cm.sum(axis=1)[:, np.newaxis]\n",
    "    print(\"Normalised confusion matrix\")\n",
    "  else:\n",
    "    print(\"Confusion matrix, without normalisation\")\n",
    "\n",
    "  print(cm)\n",
    "\n",
    "  plt.imshow(cm, interpolation='nearest', cmap=cmap)\n",
    "  plt.title(title)\n",
    "  plt.colorbar()\n",
    "  tick_marks = np.arange(len(classes))\n",
    "  plt.xticks(tick_marks, classes, rotation=45)\n",
    "  plt.yticks(tick_marks, classes)\n",
    "\n",
    "  fmt = '.2f' if normalize else 'd'\n",
    "  thresh = cm.max()/2.\n",
    "  for i,j in itertools.product(range(cm.shape[0]), range(cm.shape[1])):\n",
    "    plt.text(j,i, format(cm[i,j], fmt),\n",
    "        horizontalalignment='center',\n",
    "        color=\"white\" if cm[i, j] > thresh else \"black\")\n",
    "\n",
    "\n",
    "\n",
    "\n",
    "p_test = model.predict(X_test)\n",
    "cm = confusion_matrix(y_test, p_test)\n",
    "print(cm)\n",
    "\n",
    "plot_confusion_matrix(cm, list(range(1,4)))\n",
    "plt.tight_layout()\n",
    "plt.ylabel('True label')\n",
    "plt.xlabel('Predicted label')\n",
    "plt.show()\n"
   ]
  },
  {
   "cell_type": "code",
   "execution_count": 38,
   "id": "c43848bc-582e-4026-8f39-563383c3c1b6",
   "metadata": {},
   "outputs": [
    {
     "data": {
      "text/plain": [
       "['Texture_Classifier.joblib']"
      ]
     },
     "execution_count": 38,
     "metadata": {},
     "output_type": "execute_result"
    }
   ],
   "source": [
    "\n",
    "import joblib\n",
    "\n",
    "filename = \"Texture_Classifier.joblib\"\n",
    "joblib.dump(model, filename)"
   ]
  },
  {
   "cell_type": "code",
   "execution_count": 39,
   "id": "caa83582-666d-4e71-b5de-226ce7333895",
   "metadata": {},
   "outputs": [],
   "source": [
    "import joblib\n",
    "\n",
    "# Load the saved model\n",
    "loaded_model = joblib.load('Texture_Classifier.joblib')\n",
    "\n",
    "# Use the loaded model for predictions\n"
   ]
  },
  {
   "cell_type": "code",
   "execution_count": 40,
   "id": "24d33a45",
   "metadata": {},
   "outputs": [
    {
     "data": {
      "text/plain": [
       "0.9181692094313454"
      ]
     },
     "execution_count": 40,
     "metadata": {},
     "output_type": "execute_result"
    }
   ],
   "source": [
    "predictions = loaded_model.predict(X_test)\n",
    "accuracy2 = accuracy_score(y_test, predictions)\n",
    "accuracy2"
   ]
  }
 ],
 "metadata": {
  "kernelspec": {
   "display_name": "Python 3 (ipykernel)",
   "language": "python",
   "name": "python3"
  },
  "language_info": {
   "codemirror_mode": {
    "name": "ipython",
    "version": 3
   },
   "file_extension": ".py",
   "mimetype": "text/x-python",
   "name": "python",
   "nbconvert_exporter": "python",
   "pygments_lexer": "ipython3",
   "version": "3.9.13"
  }
 },
 "nbformat": 4,
 "nbformat_minor": 5
}
